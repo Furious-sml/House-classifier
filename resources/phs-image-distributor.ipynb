{
 "cells": [
  {
   "cell_type": "code",
   "execution_count": 77,
   "metadata": {},
   "outputs": [],
   "source": [
    "import os\n",
    "import shutil\n"
   ]
  },
  {
   "cell_type": "code",
   "execution_count": 122,
   "metadata": {},
   "outputs": [
    {
     "data": {
      "text/plain": [
       "['phs/style-california-0', 'phs/style-california-1', 'phs/style-california-2']"
      ]
     },
     "execution_count": 122,
     "metadata": {},
     "output_type": "execute_result"
    }
   ],
   "source": [
    "\n",
    "# make new dir to store the classified images\n",
    "workDir = '.'\n",
    "imageDir = 'style-california'\n",
    "classes = ['0', '1', '2']\n",
    "imageXlsx = 'style-california.xlsx'\n",
    "\n",
    "sourceDir = os.path.join(workDir, imageDir)\n",
    "targetDirs = []\n",
    "\n",
    "for clas in classes:\n",
    "    targetDir = os.path.join(workDir, imageDir + '-' + clas)\n",
    "\n",
    "    # Remove the existing dir\n",
    "    if os.path.exists(targetDir):\n",
    "        shutil.rmtree(targetDir)\n",
    "    \n",
    "    os.makedirs(targetDir)\n",
    "    targetDirs.append(targetDir)\n",
    "\n",
    "\n",
    "targetDirs\n",
    "\n"
   ]
  },
  {
   "cell_type": "code",
   "execution_count": 80,
   "metadata": {},
   "outputs": [],
   "source": [
    "#!conda install xlrd -y"
   ]
  },
  {
   "cell_type": "code",
   "execution_count": 120,
   "metadata": {},
   "outputs": [],
   "source": [
    "import pandas as pd\n",
    "excelFile = os.path.join(workDir, imageXlsx);\n",
    "df = pd.read_excel(excelFile)\n",
    "# df"
   ]
  },
  {
   "cell_type": "code",
   "execution_count": 86,
   "metadata": {},
   "outputs": [],
   "source": [
    "\n",
    "for index in range(len(df)):\n",
    "    image = str(df.iloc[index]['image'])\n",
    "    clas = str(df.iloc[index]['class'])\n",
    "    if clas == classes[0]:\n",
    "        shutil.copy(os.path.join(sourceDir, image + '.jpg'), targetDirs[0])\n",
    "    elif clas == classes[1]:\n",
    "        shutil.copy(os.path.join(sourceDir, image + '.jpg'), targetDirs[1])\n",
    "    elif clas == classes[2]:\n",
    "        shutil.copy(os.path.join(sourceDir, image + '.jpg'), targetDirs[2])\n",
    "        \n",
    "        \n"
   ]
  },
  {
   "cell_type": "code",
   "execution_count": 123,
   "metadata": {},
   "outputs": [],
   "source": [
    "#!conda install openpyxl -y"
   ]
  },
  {
   "cell_type": "code",
   "execution_count": 119,
   "metadata": {},
   "outputs": [],
   "source": [
    "df0 = df[df['class'] == 0];df0\n",
    "df0.to_excel(targetDirs[0] + '.xlsx')\n"
   ]
  },
  {
   "cell_type": "code",
   "execution_count": 104,
   "metadata": {},
   "outputs": [],
   "source": [
    "df1 = df[df['class'] == 1]; df1\n",
    "df1.to_excel(targetDirs[1] + '.xlsx')"
   ]
  },
  {
   "cell_type": "code",
   "execution_count": 103,
   "metadata": {},
   "outputs": [],
   "source": [
    "df2 = df[df['class'] == 2]; df2\n",
    "df2.to_excel(targetDirs[2] + '.xlsx')"
   ]
  }
 ],
 "metadata": {
  "kernelspec": {
   "display_name": "Python 3",
   "language": "python",
   "name": "python3"
  },
  "language_info": {
   "codemirror_mode": {
    "name": "ipython",
    "version": 3
   },
   "file_extension": ".py",
   "mimetype": "text/x-python",
   "name": "python",
   "nbconvert_exporter": "python",
   "pygments_lexer": "ipython3",
   "version": "3.6.4"
  }
 },
 "nbformat": 4,
 "nbformat_minor": 2
}
