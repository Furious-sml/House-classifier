{
 "cells": [
  {
   "cell_type": "code",
   "execution_count": 151,
   "metadata": {},
   "outputs": [],
   "source": [
    "import pandas as pd\n",
    "import numpy as np\n",
    "from sklearn.base import TransformerMixin\n",
    "from fastai.structured import *\n",
    "from fastai.column_data import *\n",
    "np.set_printoptions(threshold=50, edgeitems=20)\n",
    "\n",
    "PATH='data/melb-housing-data'"
   ]
  },
  {
   "cell_type": "code",
   "execution_count": 63,
   "metadata": {},
   "outputs": [
    {
     "name": "stdout",
     "output_type": "stream",
     "text": [
      "              Rooms         Price      Distance      Postcode      Bedroom2  \\\n",
      "count  31420.000000  2.458900e+04  31419.000000  31419.000000  24211.000000   \n",
      "mean       3.019764  1.048342e+06     11.046431   3115.052962      3.051588   \n",
      "std        0.974266  6.415156e+05      6.696776    107.223963      0.990758   \n",
      "min        1.000000  8.500000e+04      0.000000   3000.000000      0.000000   \n",
      "25%        2.000000  6.350000e+05      6.400000   3049.000000      2.000000   \n",
      "50%        3.000000  8.700000e+05     10.200000   3103.000000      3.000000   \n",
      "75%        4.000000  1.292000e+06     13.900000   3155.000000      4.000000   \n",
      "max       16.000000  1.120000e+07     48.100000   3978.000000     30.000000   \n",
      "\n",
      "           Bathroom           Car       Landsize  BuildingArea     YearBuilt  \\\n",
      "count  24205.000000  23821.000000   20621.000000  12569.000000  14294.000000   \n",
      "mean       1.610576      1.703455     588.068377    158.426641   1965.319015   \n",
      "std        0.723262      1.002708    3525.370243    415.300783     37.296614   \n",
      "min        0.000000      0.000000       0.000000      0.000000   1196.000000   \n",
      "25%        1.000000      1.000000     208.000000    100.000000   1940.000000   \n",
      "50%        2.000000      2.000000     501.000000    134.000000   1970.000000   \n",
      "75%        2.000000      2.000000     667.000000    185.000000   2000.000000   \n",
      "max       12.000000     26.000000  433014.000000  44515.000000   2106.000000   \n",
      "\n",
      "          Lattitude    Longtitude  Propertycount  \n",
      "count  24434.000000  24434.000000   31417.000000  \n",
      "mean     -37.811527    145.001513    7563.836203  \n",
      "std        0.088460      0.117798    4433.623599  \n",
      "min      -38.185600    144.423790      83.000000  \n",
      "25%      -37.862400    144.934525    4385.000000  \n",
      "50%      -37.808200    145.007100    6763.000000  \n",
      "75%      -37.755700    145.070115   10331.000000  \n",
      "max      -37.390200    145.526350   21650.000000  \n"
     ]
    }
   ],
   "source": [
    "\n",
    "\n",
    "main_file_path = 'data/melb-housing-data/Melbourne_housing_FULL.csv'\n",
    "data = pd.read_csv(main_file_path)\n",
    "\n",
    "# save filepath to variable for easier access\n",
    "melb_file_path = main_file_path\n",
    "# read the data and store data in DataFrame titled melbourne_data\n",
    "melb_data = pd.read_csv(melb_file_path) \n",
    "# print a summary of the data in Melbourne data\n",
    "print(melb_data.describe())"
   ]
  },
  {
   "cell_type": "markdown",
   "metadata": {},
   "source": [
    "**List of imp inbilt functions and features**\n",
    "\n",
    "    ??DataFrameSummary\n",
    "    ??add_datepart\n",
    "    ??proc_df\n",
    "    --df.to_feather(f'{PATH}df')\n",
    "    --emb_szs\n",
    "    --get_elapsed\n"
   ]
  },
  {
   "cell_type": "code",
   "execution_count": 64,
   "metadata": {},
   "outputs": [
    {
     "data": {
      "text/html": [
       "<div>\n",
       "<style scoped>\n",
       "    .dataframe tbody tr th:only-of-type {\n",
       "        vertical-align: middle;\n",
       "    }\n",
       "\n",
       "    .dataframe tbody tr th {\n",
       "        vertical-align: top;\n",
       "    }\n",
       "\n",
       "    .dataframe thead th {\n",
       "        text-align: right;\n",
       "    }\n",
       "</style>\n",
       "<table border=\"1\" class=\"dataframe\">\n",
       "  <thead>\n",
       "    <tr style=\"text-align: right;\">\n",
       "      <th></th>\n",
       "      <th>Suburb</th>\n",
       "      <th>Address</th>\n",
       "      <th>Rooms</th>\n",
       "      <th>Type</th>\n",
       "      <th>Price</th>\n",
       "      <th>Method</th>\n",
       "      <th>SellerG</th>\n",
       "      <th>Date</th>\n",
       "      <th>Distance</th>\n",
       "      <th>Postcode</th>\n",
       "      <th>...</th>\n",
       "      <th>Bathroom</th>\n",
       "      <th>Car</th>\n",
       "      <th>Landsize</th>\n",
       "      <th>BuildingArea</th>\n",
       "      <th>YearBuilt</th>\n",
       "      <th>CouncilArea</th>\n",
       "      <th>Lattitude</th>\n",
       "      <th>Longtitude</th>\n",
       "      <th>Regionname</th>\n",
       "      <th>Propertycount</th>\n",
       "    </tr>\n",
       "  </thead>\n",
       "  <tbody>\n",
       "    <tr>\n",
       "      <th>count</th>\n",
       "      <td>NaN</td>\n",
       "      <td>NaN</td>\n",
       "      <td>31420</td>\n",
       "      <td>NaN</td>\n",
       "      <td>24589</td>\n",
       "      <td>NaN</td>\n",
       "      <td>NaN</td>\n",
       "      <td>NaN</td>\n",
       "      <td>31419</td>\n",
       "      <td>31419</td>\n",
       "      <td>...</td>\n",
       "      <td>24205</td>\n",
       "      <td>23821</td>\n",
       "      <td>20621</td>\n",
       "      <td>12569</td>\n",
       "      <td>14294</td>\n",
       "      <td>NaN</td>\n",
       "      <td>24434</td>\n",
       "      <td>24434</td>\n",
       "      <td>NaN</td>\n",
       "      <td>31417</td>\n",
       "    </tr>\n",
       "    <tr>\n",
       "      <th>mean</th>\n",
       "      <td>NaN</td>\n",
       "      <td>NaN</td>\n",
       "      <td>3.01976</td>\n",
       "      <td>NaN</td>\n",
       "      <td>1.04834e+06</td>\n",
       "      <td>NaN</td>\n",
       "      <td>NaN</td>\n",
       "      <td>NaN</td>\n",
       "      <td>11.0464</td>\n",
       "      <td>3115.05</td>\n",
       "      <td>...</td>\n",
       "      <td>1.61058</td>\n",
       "      <td>1.70345</td>\n",
       "      <td>588.068</td>\n",
       "      <td>158.427</td>\n",
       "      <td>1965.32</td>\n",
       "      <td>NaN</td>\n",
       "      <td>-37.8115</td>\n",
       "      <td>145.002</td>\n",
       "      <td>NaN</td>\n",
       "      <td>7563.84</td>\n",
       "    </tr>\n",
       "    <tr>\n",
       "      <th>std</th>\n",
       "      <td>NaN</td>\n",
       "      <td>NaN</td>\n",
       "      <td>0.974266</td>\n",
       "      <td>NaN</td>\n",
       "      <td>641516</td>\n",
       "      <td>NaN</td>\n",
       "      <td>NaN</td>\n",
       "      <td>NaN</td>\n",
       "      <td>6.69678</td>\n",
       "      <td>107.224</td>\n",
       "      <td>...</td>\n",
       "      <td>0.723262</td>\n",
       "      <td>1.00271</td>\n",
       "      <td>3525.37</td>\n",
       "      <td>415.301</td>\n",
       "      <td>37.2966</td>\n",
       "      <td>NaN</td>\n",
       "      <td>0.0884601</td>\n",
       "      <td>0.117798</td>\n",
       "      <td>NaN</td>\n",
       "      <td>4433.62</td>\n",
       "    </tr>\n",
       "    <tr>\n",
       "      <th>min</th>\n",
       "      <td>NaN</td>\n",
       "      <td>NaN</td>\n",
       "      <td>1</td>\n",
       "      <td>NaN</td>\n",
       "      <td>85000</td>\n",
       "      <td>NaN</td>\n",
       "      <td>NaN</td>\n",
       "      <td>NaN</td>\n",
       "      <td>0</td>\n",
       "      <td>3000</td>\n",
       "      <td>...</td>\n",
       "      <td>0</td>\n",
       "      <td>0</td>\n",
       "      <td>0</td>\n",
       "      <td>0</td>\n",
       "      <td>1196</td>\n",
       "      <td>NaN</td>\n",
       "      <td>-38.1856</td>\n",
       "      <td>144.424</td>\n",
       "      <td>NaN</td>\n",
       "      <td>83</td>\n",
       "    </tr>\n",
       "    <tr>\n",
       "      <th>25%</th>\n",
       "      <td>NaN</td>\n",
       "      <td>NaN</td>\n",
       "      <td>2</td>\n",
       "      <td>NaN</td>\n",
       "      <td>635000</td>\n",
       "      <td>NaN</td>\n",
       "      <td>NaN</td>\n",
       "      <td>NaN</td>\n",
       "      <td>6.4</td>\n",
       "      <td>3049</td>\n",
       "      <td>...</td>\n",
       "      <td>1</td>\n",
       "      <td>1</td>\n",
       "      <td>208</td>\n",
       "      <td>100</td>\n",
       "      <td>1940</td>\n",
       "      <td>NaN</td>\n",
       "      <td>-37.8624</td>\n",
       "      <td>144.935</td>\n",
       "      <td>NaN</td>\n",
       "      <td>4385</td>\n",
       "    </tr>\n",
       "    <tr>\n",
       "      <th>50%</th>\n",
       "      <td>NaN</td>\n",
       "      <td>NaN</td>\n",
       "      <td>3</td>\n",
       "      <td>NaN</td>\n",
       "      <td>870000</td>\n",
       "      <td>NaN</td>\n",
       "      <td>NaN</td>\n",
       "      <td>NaN</td>\n",
       "      <td>10.2</td>\n",
       "      <td>3103</td>\n",
       "      <td>...</td>\n",
       "      <td>2</td>\n",
       "      <td>2</td>\n",
       "      <td>501</td>\n",
       "      <td>134</td>\n",
       "      <td>1970</td>\n",
       "      <td>NaN</td>\n",
       "      <td>-37.8082</td>\n",
       "      <td>145.007</td>\n",
       "      <td>NaN</td>\n",
       "      <td>6763</td>\n",
       "    </tr>\n",
       "    <tr>\n",
       "      <th>75%</th>\n",
       "      <td>NaN</td>\n",
       "      <td>NaN</td>\n",
       "      <td>4</td>\n",
       "      <td>NaN</td>\n",
       "      <td>1.292e+06</td>\n",
       "      <td>NaN</td>\n",
       "      <td>NaN</td>\n",
       "      <td>NaN</td>\n",
       "      <td>13.9</td>\n",
       "      <td>3155</td>\n",
       "      <td>...</td>\n",
       "      <td>2</td>\n",
       "      <td>2</td>\n",
       "      <td>667</td>\n",
       "      <td>185</td>\n",
       "      <td>2000</td>\n",
       "      <td>NaN</td>\n",
       "      <td>-37.7557</td>\n",
       "      <td>145.07</td>\n",
       "      <td>NaN</td>\n",
       "      <td>10331</td>\n",
       "    </tr>\n",
       "    <tr>\n",
       "      <th>max</th>\n",
       "      <td>NaN</td>\n",
       "      <td>NaN</td>\n",
       "      <td>16</td>\n",
       "      <td>NaN</td>\n",
       "      <td>1.12e+07</td>\n",
       "      <td>NaN</td>\n",
       "      <td>NaN</td>\n",
       "      <td>NaN</td>\n",
       "      <td>48.1</td>\n",
       "      <td>3978</td>\n",
       "      <td>...</td>\n",
       "      <td>12</td>\n",
       "      <td>26</td>\n",
       "      <td>433014</td>\n",
       "      <td>44515</td>\n",
       "      <td>2106</td>\n",
       "      <td>NaN</td>\n",
       "      <td>-37.3902</td>\n",
       "      <td>145.526</td>\n",
       "      <td>NaN</td>\n",
       "      <td>21650</td>\n",
       "    </tr>\n",
       "    <tr>\n",
       "      <th>counts</th>\n",
       "      <td>31420</td>\n",
       "      <td>31420</td>\n",
       "      <td>31420</td>\n",
       "      <td>31420</td>\n",
       "      <td>24589</td>\n",
       "      <td>31420</td>\n",
       "      <td>31420</td>\n",
       "      <td>31420</td>\n",
       "      <td>31419</td>\n",
       "      <td>31419</td>\n",
       "      <td>...</td>\n",
       "      <td>24205</td>\n",
       "      <td>23821</td>\n",
       "      <td>20621</td>\n",
       "      <td>12569</td>\n",
       "      <td>14294</td>\n",
       "      <td>31417</td>\n",
       "      <td>24434</td>\n",
       "      <td>24434</td>\n",
       "      <td>31417</td>\n",
       "      <td>31417</td>\n",
       "    </tr>\n",
       "    <tr>\n",
       "      <th>uniques</th>\n",
       "      <td>348</td>\n",
       "      <td>30718</td>\n",
       "      <td>12</td>\n",
       "      <td>3</td>\n",
       "      <td>2760</td>\n",
       "      <td>9</td>\n",
       "      <td>374</td>\n",
       "      <td>73</td>\n",
       "      <td>214</td>\n",
       "      <td>209</td>\n",
       "      <td>...</td>\n",
       "      <td>11</td>\n",
       "      <td>14</td>\n",
       "      <td>1641</td>\n",
       "      <td>726</td>\n",
       "      <td>157</td>\n",
       "      <td>33</td>\n",
       "      <td>11800</td>\n",
       "      <td>12859</td>\n",
       "      <td>8</td>\n",
       "      <td>340</td>\n",
       "    </tr>\n",
       "    <tr>\n",
       "      <th>missing</th>\n",
       "      <td>0</td>\n",
       "      <td>0</td>\n",
       "      <td>0</td>\n",
       "      <td>0</td>\n",
       "      <td>6831</td>\n",
       "      <td>0</td>\n",
       "      <td>0</td>\n",
       "      <td>0</td>\n",
       "      <td>1</td>\n",
       "      <td>1</td>\n",
       "      <td>...</td>\n",
       "      <td>7215</td>\n",
       "      <td>7599</td>\n",
       "      <td>10799</td>\n",
       "      <td>18851</td>\n",
       "      <td>17126</td>\n",
       "      <td>3</td>\n",
       "      <td>6986</td>\n",
       "      <td>6986</td>\n",
       "      <td>3</td>\n",
       "      <td>3</td>\n",
       "    </tr>\n",
       "    <tr>\n",
       "      <th>missing_perc</th>\n",
       "      <td>0%</td>\n",
       "      <td>0%</td>\n",
       "      <td>0%</td>\n",
       "      <td>0%</td>\n",
       "      <td>21.74%</td>\n",
       "      <td>0%</td>\n",
       "      <td>0%</td>\n",
       "      <td>0%</td>\n",
       "      <td>0.00%</td>\n",
       "      <td>0.00%</td>\n",
       "      <td>...</td>\n",
       "      <td>22.96%</td>\n",
       "      <td>24.19%</td>\n",
       "      <td>34.37%</td>\n",
       "      <td>60.00%</td>\n",
       "      <td>54.51%</td>\n",
       "      <td>0.01%</td>\n",
       "      <td>22.23%</td>\n",
       "      <td>22.23%</td>\n",
       "      <td>0.01%</td>\n",
       "      <td>0.01%</td>\n",
       "    </tr>\n",
       "    <tr>\n",
       "      <th>types</th>\n",
       "      <td>categorical</td>\n",
       "      <td>categorical</td>\n",
       "      <td>numeric</td>\n",
       "      <td>categorical</td>\n",
       "      <td>numeric</td>\n",
       "      <td>categorical</td>\n",
       "      <td>categorical</td>\n",
       "      <td>categorical</td>\n",
       "      <td>numeric</td>\n",
       "      <td>numeric</td>\n",
       "      <td>...</td>\n",
       "      <td>numeric</td>\n",
       "      <td>numeric</td>\n",
       "      <td>numeric</td>\n",
       "      <td>numeric</td>\n",
       "      <td>numeric</td>\n",
       "      <td>categorical</td>\n",
       "      <td>numeric</td>\n",
       "      <td>numeric</td>\n",
       "      <td>categorical</td>\n",
       "      <td>numeric</td>\n",
       "    </tr>\n",
       "  </tbody>\n",
       "</table>\n",
       "<p>13 rows × 21 columns</p>\n",
       "</div>"
      ],
      "text/plain": [
       "                   Suburb      Address     Rooms         Type        Price  \\\n",
       "count                 NaN          NaN     31420          NaN        24589   \n",
       "mean                  NaN          NaN   3.01976          NaN  1.04834e+06   \n",
       "std                   NaN          NaN  0.974266          NaN       641516   \n",
       "min                   NaN          NaN         1          NaN        85000   \n",
       "25%                   NaN          NaN         2          NaN       635000   \n",
       "50%                   NaN          NaN         3          NaN       870000   \n",
       "75%                   NaN          NaN         4          NaN    1.292e+06   \n",
       "max                   NaN          NaN        16          NaN     1.12e+07   \n",
       "counts              31420        31420     31420        31420        24589   \n",
       "uniques               348        30718        12            3         2760   \n",
       "missing                 0            0         0            0         6831   \n",
       "missing_perc           0%           0%        0%           0%       21.74%   \n",
       "types         categorical  categorical   numeric  categorical      numeric   \n",
       "\n",
       "                   Method      SellerG         Date Distance Postcode  \\\n",
       "count                 NaN          NaN          NaN    31419    31419   \n",
       "mean                  NaN          NaN          NaN  11.0464  3115.05   \n",
       "std                   NaN          NaN          NaN  6.69678  107.224   \n",
       "min                   NaN          NaN          NaN        0     3000   \n",
       "25%                   NaN          NaN          NaN      6.4     3049   \n",
       "50%                   NaN          NaN          NaN     10.2     3103   \n",
       "75%                   NaN          NaN          NaN     13.9     3155   \n",
       "max                   NaN          NaN          NaN     48.1     3978   \n",
       "counts              31420        31420        31420    31419    31419   \n",
       "uniques                 9          374           73      214      209   \n",
       "missing                 0            0            0        1        1   \n",
       "missing_perc           0%           0%           0%    0.00%    0.00%   \n",
       "types         categorical  categorical  categorical  numeric  numeric   \n",
       "\n",
       "                  ...       Bathroom      Car Landsize BuildingArea YearBuilt  \\\n",
       "count             ...          24205    23821    20621        12569     14294   \n",
       "mean              ...        1.61058  1.70345  588.068      158.427   1965.32   \n",
       "std               ...       0.723262  1.00271  3525.37      415.301   37.2966   \n",
       "min               ...              0        0        0            0      1196   \n",
       "25%               ...              1        1      208          100      1940   \n",
       "50%               ...              2        2      501          134      1970   \n",
       "75%               ...              2        2      667          185      2000   \n",
       "max               ...             12       26   433014        44515      2106   \n",
       "counts            ...          24205    23821    20621        12569     14294   \n",
       "uniques           ...             11       14     1641          726       157   \n",
       "missing           ...           7215     7599    10799        18851     17126   \n",
       "missing_perc      ...         22.96%   24.19%   34.37%       60.00%    54.51%   \n",
       "types             ...        numeric  numeric  numeric      numeric   numeric   \n",
       "\n",
       "              CouncilArea  Lattitude Longtitude   Regionname Propertycount  \n",
       "count                 NaN      24434      24434          NaN         31417  \n",
       "mean                  NaN   -37.8115    145.002          NaN       7563.84  \n",
       "std                   NaN  0.0884601   0.117798          NaN       4433.62  \n",
       "min                   NaN   -38.1856    144.424          NaN            83  \n",
       "25%                   NaN   -37.8624    144.935          NaN          4385  \n",
       "50%                   NaN   -37.8082    145.007          NaN          6763  \n",
       "75%                   NaN   -37.7557     145.07          NaN         10331  \n",
       "max                   NaN   -37.3902    145.526          NaN         21650  \n",
       "counts              31417      24434      24434        31417         31417  \n",
       "uniques                33      11800      12859            8           340  \n",
       "missing                 3       6986       6986            3             3  \n",
       "missing_perc        0.01%     22.23%     22.23%        0.01%         0.01%  \n",
       "types         categorical    numeric    numeric  categorical       numeric  \n",
       "\n",
       "[13 rows x 21 columns]"
      ]
     },
     "execution_count": 64,
     "metadata": {},
     "output_type": "execute_result"
    }
   ],
   "source": [
    "melb_data.describe()\n",
    "DataFrameSummary(melb_data).summary()\n"
   ]
  },
  {
   "cell_type": "code",
   "execution_count": 21,
   "metadata": {},
   "outputs": [],
   "source": [
    "add_datepart(melb_data,\"Date\",drop=False)"
   ]
  },
  {
   "cell_type": "code",
   "execution_count": 66,
   "metadata": {},
   "outputs": [
    {
     "data": {
      "text/plain": [
       "Index(['Suburb', 'Address', 'Rooms', 'Type', 'Price', 'Method', 'SellerG',\n",
       "       'Date', 'Distance', 'Postcode', 'Bedroom2', 'Bathroom', 'Car',\n",
       "       'Landsize', 'BuildingArea', 'YearBuilt', 'CouncilArea', 'Lattitude',\n",
       "       'Longtitude', 'Regionname', 'Propertycount'],\n",
       "      dtype='object')"
      ]
     },
     "execution_count": 66,
     "metadata": {},
     "output_type": "execute_result"
    }
   ],
   "source": [
    "#Check to see date columns added!\n",
    "melb_data.columns"
   ]
  },
  {
   "cell_type": "code",
   "execution_count": 74,
   "metadata": {},
   "outputs": [
    {
     "data": {
      "text/html": [
       "<div>\n",
       "<style scoped>\n",
       "    .dataframe tbody tr th:only-of-type {\n",
       "        vertical-align: middle;\n",
       "    }\n",
       "\n",
       "    .dataframe tbody tr th {\n",
       "        vertical-align: top;\n",
       "    }\n",
       "\n",
       "    .dataframe thead th {\n",
       "        text-align: right;\n",
       "    }\n",
       "</style>\n",
       "<table border=\"1\" class=\"dataframe\">\n",
       "  <thead>\n",
       "    <tr style=\"text-align: right;\">\n",
       "      <th></th>\n",
       "      <th>Suburb</th>\n",
       "      <th>Address</th>\n",
       "      <th>Rooms</th>\n",
       "      <th>Type</th>\n",
       "      <th>Price</th>\n",
       "      <th>Method</th>\n",
       "      <th>SellerG</th>\n",
       "      <th>Date</th>\n",
       "      <th>Distance</th>\n",
       "      <th>Postcode</th>\n",
       "      <th>...</th>\n",
       "      <th>Bathroom</th>\n",
       "      <th>Car</th>\n",
       "      <th>Landsize</th>\n",
       "      <th>BuildingArea</th>\n",
       "      <th>YearBuilt</th>\n",
       "      <th>CouncilArea</th>\n",
       "      <th>Lattitude</th>\n",
       "      <th>Longtitude</th>\n",
       "      <th>Regionname</th>\n",
       "      <th>Propertycount</th>\n",
       "    </tr>\n",
       "  </thead>\n",
       "  <tbody>\n",
       "    <tr>\n",
       "      <th>4378</th>\n",
       "      <td>Footscray</td>\n",
       "      <td>202/51 Gordon St</td>\n",
       "      <td>1</td>\n",
       "      <td>u</td>\n",
       "      <td>85000.0</td>\n",
       "      <td>PI</td>\n",
       "      <td>Burnham</td>\n",
       "      <td>3/09/2016</td>\n",
       "      <td>6.4</td>\n",
       "      <td>3011.0</td>\n",
       "      <td>...</td>\n",
       "      <td>1.0</td>\n",
       "      <td>0.0</td>\n",
       "      <td>0.0</td>\n",
       "      <td>NaN</td>\n",
       "      <td>2007.0</td>\n",
       "      <td>Maribyrnong City Council</td>\n",
       "      <td>-37.7911</td>\n",
       "      <td>144.89</td>\n",
       "      <td>Western Metropolitan</td>\n",
       "      <td>7570.0</td>\n",
       "    </tr>\n",
       "  </tbody>\n",
       "</table>\n",
       "<p>1 rows × 21 columns</p>\n",
       "</div>"
      ],
      "text/plain": [
       "         Suburb           Address  Rooms Type    Price Method  SellerG  \\\n",
       "4378  Footscray  202/51 Gordon St      1    u  85000.0     PI  Burnham   \n",
       "\n",
       "           Date  Distance  Postcode      ...       Bathroom  Car  Landsize  \\\n",
       "4378  3/09/2016       6.4    3011.0      ...            1.0  0.0       0.0   \n",
       "\n",
       "      BuildingArea  YearBuilt               CouncilArea Lattitude  Longtitude  \\\n",
       "4378           NaN     2007.0  Maribyrnong City Council  -37.7911      144.89   \n",
       "\n",
       "                Regionname Propertycount  \n",
       "4378  Western Metropolitan        7570.0  \n",
       "\n",
       "[1 rows x 21 columns]"
      ]
     },
     "execution_count": 74,
     "metadata": {},
     "output_type": "execute_result"
    }
   ],
   "source": [
    "#melb_data.loc[melb_data['YearBuilt']<1200]\n"
   ]
  },
  {
   "cell_type": "code",
   "execution_count": 8,
   "metadata": {},
   "outputs": [],
   "source": [
    "# melb_data.YearBuilt.unique()\n",
    "# train_data.dropna(axis=0, subset=['Price'], inplace=True)\n",
    "# len(melb_data)\n",
    "# train_data.dropna(axis=0, subset=['Price'], inplace=True)\n",
    "# len(train_data)"
   ]
  },
  {
   "cell_type": "code",
   "execution_count": 24,
   "metadata": {},
   "outputs": [],
   "source": [
    "train_data=melb_data\n",
    "\n",
    "#Drop the Target variable\n",
    "#candidate_train_predictors = train_data.drop([ 'Price'], axis=1)\n",
    "#candidate_train_predictors.columns\n",
    "candidate_train_predictors=train_data"
   ]
  },
  {
   "cell_type": "code",
   "execution_count": 11,
   "metadata": {},
   "outputs": [],
   "source": [
    "cols_with_missing_train = [col for col in train_data.columns \n",
    "                                 if train_data[col].isnull().any()]"
   ]
  },
  {
   "cell_type": "code",
   "execution_count": 12,
   "metadata": {},
   "outputs": [
    {
     "data": {
      "text/plain": [
       "['Price',\n",
       " 'Distance',\n",
       " 'Postcode',\n",
       " 'Bedroom2',\n",
       " 'Bathroom',\n",
       " 'Car',\n",
       " 'Landsize',\n",
       " 'BuildingArea',\n",
       " 'YearBuilt',\n",
       " 'CouncilArea',\n",
       " 'Lattitude',\n",
       " 'Longtitude',\n",
       " 'Regionname',\n",
       " 'Propertycount']"
      ]
     },
     "execution_count": 12,
     "metadata": {},
     "output_type": "execute_result"
    }
   ],
   "source": [
    "cols_with_missing_train"
   ]
  },
  {
   "cell_type": "code",
   "execution_count": null,
   "metadata": {},
   "outputs": [],
   "source": []
  },
  {
   "cell_type": "code",
   "execution_count": 27,
   "metadata": {},
   "outputs": [
    {
     "data": {
      "text/plain": [
       "Suburb                 0\n",
       "Address                0\n",
       "Rooms                  0\n",
       "Type                   0\n",
       "Price                  0\n",
       "Method                 0\n",
       "SellerG                0\n",
       "Date                   0\n",
       "Distance               1\n",
       "Postcode               1\n",
       "Bedroom2            5650\n",
       "Bathroom            5654\n",
       "Car                 5945\n",
       "Landsize            8473\n",
       "CouncilArea            3\n",
       "Regionname             3\n",
       "Propertycount          3\n",
       "Year                   0\n",
       "Month                  0\n",
       "Week                   0\n",
       "Day                    0\n",
       "Dayofweek              0\n",
       "Dayofyear              0\n",
       "Is_month_end           0\n",
       "Is_month_start         0\n",
       "Is_quarter_end         0\n",
       "Is_quarter_start       0\n",
       "Is_year_end            0\n",
       "Is_year_start          0\n",
       "Elapsed                0\n",
       "dtype: int64"
      ]
     },
     "execution_count": 27,
     "metadata": {},
     "output_type": "execute_result"
    }
   ],
   "source": [
    "#Check the sum of Null values \n",
    "candidate_train_predictors.isnull().sum()"
   ]
  },
  {
   "cell_type": "code",
   "execution_count": 17,
   "metadata": {},
   "outputs": [],
   "source": [
    "#Drop all rows where price is not available -- Basically incorrect data\n",
    "candidate_train_predictors.dropna(subset=['Price'],inplace=True)"
   ]
  },
  {
   "cell_type": "code",
   "execution_count": 18,
   "metadata": {},
   "outputs": [],
   "source": [
    "#Droped the columsn which could not contribute to the model \n",
    "#yearBuit and Building Area are missing in half the ds and Lattitute and Longtitude are itself not useful unless we map the post code\n",
    "candidate_train_predictors.drop(columns=['YearBuilt','BuildingArea','Lattitude','Longtitude'],inplace=True)"
   ]
  },
  {
   "cell_type": "code",
   "execution_count": 20,
   "metadata": {},
   "outputs": [
    {
     "data": {
      "text/plain": [
       "24589"
      ]
     },
     "execution_count": 20,
     "metadata": {},
     "output_type": "execute_result"
    }
   ],
   "source": [
    "#SO eventually the final reduced dataset contains 24589 rows\n",
    "len(candidate_train_predictors)"
   ]
  },
  {
   "cell_type": "markdown",
   "metadata": {},
   "source": [
    "### There was no event specific details present so ignored the following"
   ]
  },
  {
   "cell_type": "code",
   "execution_count": 113,
   "metadata": {},
   "outputs": [],
   "source": [
    "# def get_elapsed(fld, pre):\n",
    "#     day1 = np.timedelta64(1, 'D')\n",
    "#     last_date = np.datetime64()\n",
    "#     last_postcode = 0\n",
    "#     res = []\n",
    "\n",
    "#     for s,v,d in zip(df.Postcode.values,df[fld].values, df.Date.values):\n",
    "#         if s != last_postcode:\n",
    "#             last_date = np.datetime64()\n",
    "#             last_postcode = s\n",
    "#         if v: last_date = d\n",
    "#         res.append(((d-last_date).astype('timedelta64[D]') / day1))\n",
    "#     df[pre+fld] = res"
   ]
  },
  {
   "cell_type": "code",
   "execution_count": null,
   "metadata": {},
   "outputs": [],
   "source": [
    "#columns = [\"Date\", \"Postcode\", \"Method\", \"Rooms\", \"SellerG\"]"
   ]
  },
  {
   "cell_type": "code",
   "execution_count": null,
   "metadata": {},
   "outputs": [],
   "source": [
    "#df = candidate_train_predictors[columns]"
   ]
  },
  {
   "cell_type": "code",
   "execution_count": 115,
   "metadata": {},
   "outputs": [],
   "source": [
    "# fld = 'Method'\n",
    "# df = df.sort_values(['Postcode', 'Date'])\n",
    "# get_elapsed(fld, 'After')\n",
    "# df = df.sort_values(['Postcode', 'Date'], ascending=[True, False])\n",
    "# get_elapsed(fld, 'Before')"
   ]
  },
  {
   "cell_type": "code",
   "execution_count": 119,
   "metadata": {},
   "outputs": [],
   "source": [
    "#Split categorical and numerical datatypes\n",
    "\n",
    "cat_vars = [cname for cname in candidate_train_predictors.columns if\n",
    "                                candidate_train_predictors[cname].dtype == \"object\"]\n",
    "\n",
    "contin_vars = [cname for cname in candidate_train_predictors.columns if \n",
    "                                candidate_train_predictors[cname].dtype in ['int64', 'float64']]"
   ]
  },
  {
   "cell_type": "code",
   "execution_count": 120,
   "metadata": {},
   "outputs": [
    {
     "data": {
      "text/plain": [
       "['Suburb', 'Address', 'Type', 'Method', 'SellerG', 'CouncilArea', 'Regionname']"
      ]
     },
     "execution_count": 120,
     "metadata": {},
     "output_type": "execute_result"
    }
   ],
   "source": [
    "cat_vars"
   ]
  },
  {
   "cell_type": "code",
   "execution_count": 121,
   "metadata": {},
   "outputs": [
    {
     "data": {
      "text/plain": [
       "['Rooms',\n",
       " 'Price',\n",
       " 'Distance',\n",
       " 'Postcode',\n",
       " 'Bedroom2',\n",
       " 'Bathroom',\n",
       " 'Car',\n",
       " 'Landsize',\n",
       " 'Propertycount',\n",
       " 'Year',\n",
       " 'Month',\n",
       " 'Week',\n",
       " 'Day',\n",
       " 'Dayofweek',\n",
       " 'Dayofyear',\n",
       " 'Elapsed']"
      ]
     },
     "execution_count": 121,
     "metadata": {},
     "output_type": "execute_result"
    }
   ],
   "source": [
    "contin_vars"
   ]
  },
  {
   "cell_type": "code",
   "execution_count": 123,
   "metadata": {},
   "outputs": [
    {
     "data": {
      "text/plain": [
       "Index(['Suburb', 'Address', 'Rooms', 'Type', 'Price', 'Method', 'SellerG',\n",
       "       'Date', 'Distance', 'Postcode', 'Bedroom2', 'Bathroom', 'Car',\n",
       "       'Landsize', 'CouncilArea', 'Regionname', 'Propertycount', 'Year',\n",
       "       'Month', 'Week', 'Day', 'Dayofweek', 'Dayofyear', 'Is_month_end',\n",
       "       'Is_month_start', 'Is_quarter_end', 'Is_quarter_start', 'Is_year_end',\n",
       "       'Is_year_start', 'Elapsed'],\n",
       "      dtype='object')"
      ]
     },
     "execution_count": 123,
     "metadata": {},
     "output_type": "execute_result"
    }
   ],
   "source": [
    "len(candidate_train_predictors)\n",
    "candidate_train_predictors.columns"
   ]
  },
  {
   "cell_type": "code",
   "execution_count": 124,
   "metadata": {},
   "outputs": [],
   "source": [
    "for v in cat_vars: candidate_train_predictors[v] = candidate_train_predictors[v].astype('category').cat.as_ordered()"
   ]
  },
  {
   "cell_type": "code",
   "execution_count": 127,
   "metadata": {},
   "outputs": [],
   "source": [
    "??apply_cats\n",
    "\n",
    "    def apply_cats(df, trn):\n",
    "        \"\"\"Changes any columns of strings in df into categorical variables using trn as\n",
    "        a template for the category codes.\n",
    "\n",
    "        Parameters:\n",
    "    -----------\n",
    "    df: A pandas dataframe. Any columns of strings will be changed to\n",
    "        categorical values. The category codes are determined by trn.\n",
    "\n",
    "    trn: A pandas dataframe. When creating a category for df, it looks up the\n",
    "        what the category's code were in trn and makes those the category codes\n",
    "        for df.\n",
    "\n",
    "\n"
   ]
  },
  {
   "cell_type": "code",
   "execution_count": 128,
   "metadata": {},
   "outputs": [],
   "source": [
    "for v in contin_vars:\n",
    "    candidate_train_predictors[v] = candidate_train_predictors[v].astype('float32')"
   ]
  },
  {
   "cell_type": "code",
   "execution_count": 134,
   "metadata": {},
   "outputs": [
    {
     "data": {
      "text/plain": [
       "4917"
      ]
     },
     "execution_count": 134,
     "metadata": {},
     "output_type": "execute_result"
    }
   ],
   "source": [
    "n=len(candidate_train_predictors)\n",
    "idxs = get_cv_idxs(n)\n",
    "joined_samp = candidate_train_predictors.iloc[idxs].set_index(\"Date\")\n",
    "samp_size = len(joined_samp); samp_size"
   ]
  },
  {
   "cell_type": "code",
   "execution_count": 136,
   "metadata": {},
   "outputs": [
    {
     "data": {
      "text/plain": [
       "Suburb                 0\n",
       "Address                0\n",
       "Rooms                  0\n",
       "Type                   0\n",
       "Price                  0\n",
       "Method                 0\n",
       "SellerG                0\n",
       "Distance               0\n",
       "Postcode               0\n",
       "Bedroom2            1078\n",
       "Bathroom            1078\n",
       "Car                 1138\n",
       "Landsize            1664\n",
       "CouncilArea            2\n",
       "Regionname             2\n",
       "Propertycount          2\n",
       "Year                   0\n",
       "Month                  0\n",
       "Week                   0\n",
       "Day                    0\n",
       "Dayofweek              0\n",
       "Dayofyear              0\n",
       "Is_month_end           0\n",
       "Is_month_start         0\n",
       "Is_quarter_end         0\n",
       "Is_quarter_start       0\n",
       "Is_year_end            0\n",
       "Is_year_start          0\n",
       "Elapsed                0\n",
       "dtype: int64"
      ]
     },
     "execution_count": 136,
     "metadata": {},
     "output_type": "execute_result"
    }
   ],
   "source": [
    "joined_samp.isnull().sum()"
   ]
  },
  {
   "cell_type": "code",
   "execution_count": 139,
   "metadata": {},
   "outputs": [],
   "source": [
    "df, y, nas, mapper = proc_df(joined_samp, 'Price', do_scale=True)\n",
    "yl = np.log(y)"
   ]
  },
  {
   "cell_type": "code",
   "execution_count": 140,
   "metadata": {},
   "outputs": [
    {
     "data": {
      "text/html": [
       "<div>\n",
       "<style scoped>\n",
       "    .dataframe tbody tr th:only-of-type {\n",
       "        vertical-align: middle;\n",
       "    }\n",
       "\n",
       "    .dataframe tbody tr th {\n",
       "        vertical-align: top;\n",
       "    }\n",
       "\n",
       "    .dataframe thead th {\n",
       "        text-align: right;\n",
       "    }\n",
       "</style>\n",
       "<table border=\"1\" class=\"dataframe\">\n",
       "  <thead>\n",
       "    <tr style=\"text-align: right;\">\n",
       "      <th></th>\n",
       "      <th>Suburb</th>\n",
       "      <th>Address</th>\n",
       "      <th>Rooms</th>\n",
       "      <th>Type</th>\n",
       "      <th>Method</th>\n",
       "      <th>SellerG</th>\n",
       "      <th>Distance</th>\n",
       "      <th>Postcode</th>\n",
       "      <th>Bedroom2</th>\n",
       "      <th>Bathroom</th>\n",
       "      <th>...</th>\n",
       "      <th>Is_quarter_end</th>\n",
       "      <th>Is_quarter_start</th>\n",
       "      <th>Is_year_end</th>\n",
       "      <th>Is_year_start</th>\n",
       "      <th>Elapsed</th>\n",
       "      <th>Bedroom2_na</th>\n",
       "      <th>Bathroom_na</th>\n",
       "      <th>Car_na</th>\n",
       "      <th>Landsize_na</th>\n",
       "      <th>Propertycount_na</th>\n",
       "    </tr>\n",
       "    <tr>\n",
       "      <th>Date</th>\n",
       "      <th></th>\n",
       "      <th></th>\n",
       "      <th></th>\n",
       "      <th></th>\n",
       "      <th></th>\n",
       "      <th></th>\n",
       "      <th></th>\n",
       "      <th></th>\n",
       "      <th></th>\n",
       "      <th></th>\n",
       "      <th></th>\n",
       "      <th></th>\n",
       "      <th></th>\n",
       "      <th></th>\n",
       "      <th></th>\n",
       "      <th></th>\n",
       "      <th></th>\n",
       "      <th></th>\n",
       "      <th></th>\n",
       "      <th></th>\n",
       "      <th></th>\n",
       "    </tr>\n",
       "  </thead>\n",
       "  <tbody>\n",
       "    <tr>\n",
       "      <th>2016-10-09</th>\n",
       "      <td>30</td>\n",
       "      <td>16869</td>\n",
       "      <td>-0.003027</td>\n",
       "      <td>1</td>\n",
       "      <td>1</td>\n",
       "      <td>49</td>\n",
       "      <td>0.272416</td>\n",
       "      <td>0.822265</td>\n",
       "      <td>-0.025203</td>\n",
       "      <td>0.488394</td>\n",
       "      <td>...</td>\n",
       "      <td>-0.028534</td>\n",
       "      <td>0.0</td>\n",
       "      <td>0.0</td>\n",
       "      <td>0.0</td>\n",
       "      <td>-0.878568</td>\n",
       "      <td>1.887121</td>\n",
       "      <td>1.887121</td>\n",
       "      <td>1.822289</td>\n",
       "      <td>1.398187</td>\n",
       "      <td>-0.020172</td>\n",
       "    </tr>\n",
       "    <tr>\n",
       "      <th>2016-08-10</th>\n",
       "      <td>31</td>\n",
       "      <td>8600</td>\n",
       "      <td>-1.066209</td>\n",
       "      <td>2</td>\n",
       "      <td>2</td>\n",
       "      <td>327</td>\n",
       "      <td>0.406304</td>\n",
       "      <td>0.472869</td>\n",
       "      <td>-1.228332</td>\n",
       "      <td>-1.090458</td>\n",
       "      <td>...</td>\n",
       "      <td>-0.028534</td>\n",
       "      <td>0.0</td>\n",
       "      <td>0.0</td>\n",
       "      <td>0.0</td>\n",
       "      <td>-1.161200</td>\n",
       "      <td>-0.529908</td>\n",
       "      <td>-0.529908</td>\n",
       "      <td>-0.548760</td>\n",
       "      <td>-0.715212</td>\n",
       "      <td>-0.020172</td>\n",
       "    </tr>\n",
       "  </tbody>\n",
       "</table>\n",
       "<p>2 rows × 33 columns</p>\n",
       "</div>"
      ],
      "text/plain": [
       "            Suburb  Address     Rooms  Type  Method  SellerG  Distance  \\\n",
       "Date                                                                     \n",
       "2016-10-09      30    16869 -0.003027     1       1       49  0.272416   \n",
       "2016-08-10      31     8600 -1.066209     2       2      327  0.406304   \n",
       "\n",
       "            Postcode  Bedroom2  Bathroom        ...         Is_quarter_end  \\\n",
       "Date                                            ...                          \n",
       "2016-10-09  0.822265 -0.025203  0.488394        ...              -0.028534   \n",
       "2016-08-10  0.472869 -1.228332 -1.090458        ...              -0.028534   \n",
       "\n",
       "            Is_quarter_start  Is_year_end  Is_year_start   Elapsed  \\\n",
       "Date                                                                 \n",
       "2016-10-09               0.0          0.0            0.0 -0.878568   \n",
       "2016-08-10               0.0          0.0            0.0 -1.161200   \n",
       "\n",
       "            Bedroom2_na  Bathroom_na    Car_na  Landsize_na  Propertycount_na  \n",
       "Date                                                                           \n",
       "2016-10-09     1.887121     1.887121  1.822289     1.398187         -0.020172  \n",
       "2016-08-10    -0.529908    -0.529908 -0.548760    -0.715212         -0.020172  \n",
       "\n",
       "[2 rows x 33 columns]"
      ]
     },
     "execution_count": 140,
     "metadata": {},
     "output_type": "execute_result"
    }
   ],
   "source": [
    "df.head(2)"
   ]
  },
  {
   "cell_type": "code",
   "execution_count": 141,
   "metadata": {},
   "outputs": [],
   "source": [
    "train_ratio = 0.75\n",
    "# train_ratio = 0.9\n",
    "train_size = int(samp_size * train_ratio); train_size\n",
    "val_idx = list(range(train_size, len(df)))"
   ]
  },
  {
   "cell_type": "code",
   "execution_count": null,
   "metadata": {},
   "outputs": [],
   "source": []
  },
  {
   "cell_type": "code",
   "execution_count": null,
   "metadata": {},
   "outputs": [],
   "source": []
  },
  {
   "cell_type": "code",
   "execution_count": 142,
   "metadata": {},
   "outputs": [],
   "source": [
    "def inv_y(a): return np.exp(a)\n",
    "\n",
    "def exp_rmspe(y_pred, targ):\n",
    "    targ = inv_y(targ)\n",
    "    pct_var = (targ - inv_y(y_pred))/targ\n",
    "    return math.sqrt((pct_var**2).mean())\n",
    "\n",
    "max_log_y = np.max(yl)\n",
    "y_range = (0, max_log_y*1.2)"
   ]
  },
  {
   "cell_type": "code",
   "execution_count": 152,
   "metadata": {},
   "outputs": [],
   "source": [
    "md = ColumnarModelData.from_data_frame(PATH, val_idx, df, yl.astype(np.float32), cat_flds=cat_vars, bs=128\n",
    "                                       )"
   ]
  },
  {
   "cell_type": "code",
   "execution_count": 153,
   "metadata": {},
   "outputs": [],
   "source": [
    "cat_sz = [(c, len(joined_samp[c].cat.categories)+1) for c in cat_vars]"
   ]
  },
  {
   "cell_type": "code",
   "execution_count": 154,
   "metadata": {},
   "outputs": [
    {
     "data": {
      "text/plain": [
       "[('Suburb', 343),\n",
       " ('Address', 24173),\n",
       " ('Type', 4),\n",
       " ('Method', 6),\n",
       " ('SellerG', 341),\n",
       " ('CouncilArea', 34),\n",
       " ('Regionname', 9)]"
      ]
     },
     "execution_count": 154,
     "metadata": {},
     "output_type": "execute_result"
    }
   ],
   "source": [
    "cat_sz"
   ]
  },
  {
   "cell_type": "code",
   "execution_count": null,
   "metadata": {},
   "outputs": [],
   "source": []
  },
  {
   "cell_type": "code",
   "execution_count": 155,
   "metadata": {},
   "outputs": [],
   "source": [
    "emb_szs = [(c, min(50, (c+1)//2)) for _,c in cat_sz]"
   ]
  },
  {
   "cell_type": "code",
   "execution_count": 156,
   "metadata": {},
   "outputs": [
    {
     "data": {
      "text/plain": [
       "[(343, 50), (24173, 50), (4, 2), (6, 3), (341, 50), (34, 17), (9, 5)]"
      ]
     },
     "execution_count": 156,
     "metadata": {},
     "output_type": "execute_result"
    }
   ],
   "source": [
    "emb_szs"
   ]
  },
  {
   "cell_type": "code",
   "execution_count": 174,
   "metadata": {},
   "outputs": [],
   "source": [
    "m = md.get_learner(emb_szs, len(df.columns)-len(cat_vars),\n",
    "                   0.04, 1, [1000,500], [0.001,0.01], y_range=y_range)\n",
    "lr = 1e-4"
   ]
  },
  {
   "cell_type": "code",
   "execution_count": 175,
   "metadata": {},
   "outputs": [
    {
     "data": {
      "application/vnd.jupyter.widget-view+json": {
       "model_id": "34fdf47db5a74ddf96837d7028b7672c",
       "version_major": 2,
       "version_minor": 0
      },
      "text/html": [
       "<p>Failed to display Jupyter Widget of type <code>HBox</code>.</p>\n",
       "<p>\n",
       "  If you're reading this message in the Jupyter Notebook or JupyterLab Notebook, it may mean\n",
       "  that the widgets JavaScript is still loading. If this message persists, it\n",
       "  likely means that the widgets JavaScript library is either not installed or\n",
       "  not enabled. See the <a href=\"https://ipywidgets.readthedocs.io/en/stable/user_install.html\">Jupyter\n",
       "  Widgets Documentation</a> for setup instructions.\n",
       "</p>\n",
       "<p>\n",
       "  If you're reading this message in another frontend (for example, a static\n",
       "  rendering on GitHub or <a href=\"https://nbviewer.jupyter.org/\">NBViewer</a>),\n",
       "  it may mean that your frontend doesn't currently support widgets.\n",
       "</p>\n"
      ],
      "text/plain": [
       "HBox(children=(IntProgress(value=0, description='Epoch', max=1), HTML(value='')))"
      ]
     },
     "metadata": {},
     "output_type": "display_data"
    },
    {
     "name": "stdout",
     "output_type": "stream",
     "text": [
      "epoch      trn_loss   val_loss                             \n",
      "    0      21.425664  27.090664 \n",
      "\n"
     ]
    }
   ],
   "source": [
    "m.lr_find()"
   ]
  },
  {
   "cell_type": "code",
   "execution_count": 179,
   "metadata": {},
   "outputs": [
    {
     "data": {
      "image/png": "[encoded data removed]",
      "text/plain": [
       "<matplotlib.figure.Figure at 0x7f0b87fa35f8>"
      ]
     },
     "metadata": {},
     "output_type": "display_data"
    }
   ],
   "source": [
    "m.sched.plot(1)"
   ]
  },
  {
   "cell_type": "code",
   "execution_count": 180,
   "metadata": {},
   "outputs": [],
   "source": [
    "m = md.get_learner(emb_szs, len(df.columns)-len(cat_vars),\n",
    "                   0.04, 1, [1000,500], [0.001,0.01], y_range=y_range)\n",
    "lr = 1e-3"
   ]
  },
  {
   "cell_type": "code",
   "execution_count": 181,
   "metadata": {},
   "outputs": [
    {
     "data": {
      "application/vnd.jupyter.widget-view+json": {
       "model_id": "e55d5efe63af49c4adf0245531387554",
       "version_major": 2,
       "version_minor": 0
      },
      "text/html": [
       "<p>Failed to display Jupyter Widget of type <code>HBox</code>.</p>\n",
       "<p>\n",
       "  If you're reading this message in the Jupyter Notebook or JupyterLab Notebook, it may mean\n",
       "  that the widgets JavaScript is still loading. If this message persists, it\n",
       "  likely means that the widgets JavaScript library is either not installed or\n",
       "  not enabled. See the <a href=\"https://ipywidgets.readthedocs.io/en/stable/user_install.html\">Jupyter\n",
       "  Widgets Documentation</a> for setup instructions.\n",
       "</p>\n",
       "<p>\n",
       "  If you're reading this message in another frontend (for example, a static\n",
       "  rendering on GitHub or <a href=\"https://nbviewer.jupyter.org/\">NBViewer</a>),\n",
       "  it may mean that your frontend doesn't currently support widgets.\n",
       "</p>\n"
      ],
      "text/plain": [
       "HBox(children=(IntProgress(value=0, description='Epoch', max=3), HTML(value='')))"
      ]
     },
     "metadata": {},
     "output_type": "display_data"
    },
    {
     "name": "stdout",
     "output_type": "stream",
     "text": [
      "epoch      trn_loss   val_loss   exp_rmspe                 \n",
      "    0      2.225566   0.543632   5.677505  \n",
      "    1      0.965291   0.195325   1.430209                   \n",
      "    2      0.517597   0.123172   0.457172                   \n",
      "\n"
     ]
    },
    {
     "data": {
      "text/plain": [
       "[0.123172, 0.4571724260349043]"
      ]
     },
     "execution_count": 181,
     "metadata": {},
     "output_type": "execute_result"
    }
   ],
   "source": [
    "m.fit(lr, 3, metrics=[exp_rmspe])"
   ]
  },
  {
   "cell_type": "code",
   "execution_count": 182,
   "metadata": {},
   "outputs": [
    {
     "data": {
      "application/vnd.jupyter.widget-view+json": {
       "model_id": "15bef95cccda4ce593707fdf7b51c001",
       "version_major": 2,
       "version_minor": 0
      },
      "text/html": [
       "<p>Failed to display Jupyter Widget of type <code>HBox</code>.</p>\n",
       "<p>\n",
       "  If you're reading this message in the Jupyter Notebook or JupyterLab Notebook, it may mean\n",
       "  that the widgets JavaScript is still loading. If this message persists, it\n",
       "  likely means that the widgets JavaScript library is either not installed or\n",
       "  not enabled. See the <a href=\"https://ipywidgets.readthedocs.io/en/stable/user_install.html\">Jupyter\n",
       "  Widgets Documentation</a> for setup instructions.\n",
       "</p>\n",
       "<p>\n",
       "  If you're reading this message in another frontend (for example, a static\n",
       "  rendering on GitHub or <a href=\"https://nbviewer.jupyter.org/\">NBViewer</a>),\n",
       "  it may mean that your frontend doesn't currently support widgets.\n",
       "</p>\n"
      ],
      "text/plain": [
       "HBox(children=(IntProgress(value=0, description='Epoch', max=5), HTML(value='')))"
      ]
     },
     "metadata": {},
     "output_type": "display_data"
    },
    {
     "name": "stdout",
     "output_type": "stream",
     "text": [
      "epoch      trn_loss   val_loss   exp_rmspe                  \n",
      "    0      0.144988   0.205925   0.683482  \n",
      "    1      0.129772   0.143836   2.714472                   \n",
      "    2      0.10111    0.14105    3.0668                     \n",
      "    3      0.081152   0.127381   2.606847                    \n",
      "    4      0.067812   0.123558   2.597837                    \n",
      "\n"
     ]
    },
    {
     "data": {
      "text/plain": [
       "[0.12355832, 2.5978366652509255]"
      ]
     },
     "execution_count": 182,
     "metadata": {},
     "output_type": "execute_result"
    }
   ],
   "source": [
    "m.fit(lr, 5, metrics=[exp_rmspe], cycle_len=1)"
   ]
  },
  {
   "cell_type": "code",
   "execution_count": 183,
   "metadata": {},
   "outputs": [
    {
     "data": {
      "application/vnd.jupyter.widget-view+json": {
       "model_id": "0c2d4f582a0e4118bae4bcefdf129c3e",
       "version_major": 2,
       "version_minor": 0
      },
      "text/html": [
       "<p>Failed to display Jupyter Widget of type <code>HBox</code>.</p>\n",
       "<p>\n",
       "  If you're reading this message in the Jupyter Notebook or JupyterLab Notebook, it may mean\n",
       "  that the widgets JavaScript is still loading. If this message persists, it\n",
       "  likely means that the widgets JavaScript library is either not installed or\n",
       "  not enabled. See the <a href=\"https://ipywidgets.readthedocs.io/en/stable/user_install.html\">Jupyter\n",
       "  Widgets Documentation</a> for setup instructions.\n",
       "</p>\n",
       "<p>\n",
       "  If you're reading this message in another frontend (for example, a static\n",
       "  rendering on GitHub or <a href=\"https://nbviewer.jupyter.org/\">NBViewer</a>),\n",
       "  it may mean that your frontend doesn't currently support widgets.\n",
       "</p>\n"
      ],
      "text/plain": [
       "HBox(children=(IntProgress(value=0, description='Epoch', max=8), HTML(value='')))"
      ]
     },
     "metadata": {},
     "output_type": "display_data"
    },
    {
     "name": "stdout",
     "output_type": "stream",
     "text": [
      "epoch      trn_loss   val_loss   exp_rmspe                   \n",
      "    0      0.134182   0.145888   1.692352  \n",
      "    1      0.102641   0.10149    0.336669                   \n",
      "    2      0.074667   0.095796   0.361637                    \n",
      "    3      0.059923   0.09377    0.338031                    \n",
      "    4      0.052602   0.135636   3.005414                    \n",
      "    5      0.050698   0.132969   3.703926                    \n",
      "    6      0.043457   0.113831   3.055633                    \n",
      "    7      0.0351     0.113352   3.042856                    \n",
      "\n"
     ]
    },
    {
     "data": {
      "text/plain": [
       "[0.1133519, 3.0428555599751457]"
      ]
     },
     "execution_count": 183,
     "metadata": {},
     "output_type": "execute_result"
    }
   ],
   "source": [
    "m.fit(lr, 2, metrics=[exp_rmspe], cycle_len=4)"
   ]
  },
  {
   "cell_type": "code",
   "execution_count": 184,
   "metadata": {},
   "outputs": [],
   "source": [
    "m = md.get_learner(emb_szs, len(df.columns)-len(cat_vars),\n",
    "                   0.04, 1, [1000,500], [0.001,0.01], y_range=y_range)\n",
    "lr = 1e-3"
   ]
  },
  {
   "cell_type": "code",
   "execution_count": 185,
   "metadata": {},
   "outputs": [
    {
     "data": {
      "application/vnd.jupyter.widget-view+json": {
       "model_id": "cb415620b9c14446a98caf30e555939d",
       "version_major": 2,
       "version_minor": 0
      },
      "text/html": [
       "<p>Failed to display Jupyter Widget of type <code>HBox</code>.</p>\n",
       "<p>\n",
       "  If you're reading this message in the Jupyter Notebook or JupyterLab Notebook, it may mean\n",
       "  that the widgets JavaScript is still loading. If this message persists, it\n",
       "  likely means that the widgets JavaScript library is either not installed or\n",
       "  not enabled. See the <a href=\"https://ipywidgets.readthedocs.io/en/stable/user_install.html\">Jupyter\n",
       "  Widgets Documentation</a> for setup instructions.\n",
       "</p>\n",
       "<p>\n",
       "  If you're reading this message in another frontend (for example, a static\n",
       "  rendering on GitHub or <a href=\"https://nbviewer.jupyter.org/\">NBViewer</a>),\n",
       "  it may mean that your frontend doesn't currently support widgets.\n",
       "</p>\n"
      ],
      "text/plain": [
       "HBox(children=(IntProgress(value=0, description='Epoch', max=1), HTML(value='')))"
      ]
     },
     "metadata": {},
     "output_type": "display_data"
    },
    {
     "name": "stdout",
     "output_type": "stream",
     "text": [
      "epoch      trn_loss   val_loss   exp_rmspe                 \n",
      "    0      2.580072   0.679866   8.690747  \n",
      "\n"
     ]
    },
    {
     "data": {
      "text/plain": [
       "[0.679866, 8.690747181210194]"
      ]
     },
     "execution_count": 185,
     "metadata": {},
     "output_type": "execute_result"
    }
   ],
   "source": [
    "m.fit(lr, 1, metrics=[exp_rmspe])"
   ]
  },
  {
   "cell_type": "code",
   "execution_count": 186,
   "metadata": {},
   "outputs": [
    {
     "data": {
      "application/vnd.jupyter.widget-view+json": {
       "model_id": "668c8c2994884d60805b2666857eab93",
       "version_major": 2,
       "version_minor": 0
      },
      "text/html": [
       "<p>Failed to display Jupyter Widget of type <code>HBox</code>.</p>\n",
       "<p>\n",
       "  If you're reading this message in the Jupyter Notebook or JupyterLab Notebook, it may mean\n",
       "  that the widgets JavaScript is still loading. If this message persists, it\n",
       "  likely means that the widgets JavaScript library is either not installed or\n",
       "  not enabled. See the <a href=\"https://ipywidgets.readthedocs.io/en/stable/user_install.html\">Jupyter\n",
       "  Widgets Documentation</a> for setup instructions.\n",
       "</p>\n",
       "<p>\n",
       "  If you're reading this message in another frontend (for example, a static\n",
       "  rendering on GitHub or <a href=\"https://nbviewer.jupyter.org/\">NBViewer</a>),\n",
       "  it may mean that your frontend doesn't currently support widgets.\n",
       "</p>\n"
      ],
      "text/plain": [
       "HBox(children=(IntProgress(value=0, description='Epoch', max=3), HTML(value='')))"
      ]
     },
     "metadata": {},
     "output_type": "display_data"
    },
    {
     "name": "stdout",
     "output_type": "stream",
     "text": [
      "epoch      trn_loss   val_loss   exp_rmspe                  \n",
      "    0      0.437602   0.25304    8.085164  \n",
      "    1      0.239983   0.126114   1.607639                   \n",
      "    2      0.153575   0.120294   2.624216                   \n",
      "\n"
     ]
    },
    {
     "data": {
      "text/plain": [
       "[0.120293915, 2.624216429324983]"
      ]
     },
     "execution_count": 186,
     "metadata": {},
     "output_type": "execute_result"
    }
   ],
   "source": [
    "m.fit(lr, 3, metrics=[exp_rmspe], cycle_len=1)"
   ]
  },
  {
   "cell_type": "code",
   "execution_count": 188,
   "metadata": {},
   "outputs": [],
   "source": [
    "m.save('val0')"
   ]
  },
  {
   "cell_type": "code",
   "execution_count": 189,
   "metadata": {},
   "outputs": [],
   "source": [
    "m.load('val0')"
   ]
  },
  {
   "cell_type": "code",
   "execution_count": null,
   "metadata": {},
   "outputs": [],
   "source": []
  }
 ],
 "metadata": {
  "kernelspec": {
   "display_name": "Python 3",
   "language": "python",
   "name": "python3"
  },
  "language_info": {
   "codemirror_mode": {
    "name": "ipython",
    "version": 3
   },
   "file_extension": ".py",
   "mimetype": "text/x-python",
   "name": "python",
   "nbconvert_exporter": "python",
   "pygments_lexer": "ipython3",
   "version": "3.6.4"
  }
 },
 "nbformat": 4,
 "nbformat_minor": 2
}
