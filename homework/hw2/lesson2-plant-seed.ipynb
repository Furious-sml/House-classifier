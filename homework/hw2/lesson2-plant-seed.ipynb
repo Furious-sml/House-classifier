{
 "cells": [
  {
   "cell_type": "markdown",
   "metadata": {},
   "source": [
    "## Image classification with Convolutional Neural Networks"
   ]
  },
  {
   "cell_type": "code",
   "execution_count": 1,
   "metadata": {},
   "outputs": [],
   "source": [
    "# Put these at the top of every notebook, to get automatic reloading and inline plotting\n",
    "%reload_ext autoreload\n",
    "%autoreload 2\n",
    "%matplotlib inline\n",
    "import pandas as pd"
   ]
  },
  {
   "cell_type": "code",
   "execution_count": 4,
   "metadata": {},
   "outputs": [],
   "source": [
    "## This file contains all the main external libs we'll use\n",
    "from fastai.imports import *\n",
    "\n",
    "from fastai.transforms import *\n",
    "from fastai.conv_learner import *\n",
    "from fastai.model import *\n",
    "from fastai.dataset import *\n",
    "from fastai.sgdr import *\n",
    "from fastai.plots import *\n",
    "\n",
    "\n",
    "PATH = \"data/plant-seed/\"\n",
    "sz=224\n",
    "arch=resnext50\n",
    "bs=64"
   ]
  },
  {
   "cell_type": "code",
   "execution_count": 5,
   "metadata": {},
   "outputs": [
    {
     "data": {
      "text/plain": [
       "True"
      ]
     },
     "execution_count": 5,
     "metadata": {},
     "output_type": "execute_result"
    }
   ],
   "source": [
    "torch.cuda.is_available()"
   ]
  },
  {
   "cell_type": "code",
   "execution_count": 6,
   "metadata": {},
   "outputs": [
    {
     "data": {
      "text/plain": [
       "True"
      ]
     },
     "execution_count": 6,
     "metadata": {},
     "output_type": "execute_result"
    }
   ],
   "source": [
    "torch.backends.cudnn.enabled"
   ]
  },
  {
   "cell_type": "code",
   "execution_count": 7,
   "metadata": {},
   "outputs": [
    {
     "data": {
      "text/plain": [
       "['submission_res.csv',\n",
       " 'train',\n",
       " 'sample',\n",
       " 'remove_directory_retain_files.sh',\n",
       " '.kaggle-cli',\n",
       " 'list_of_seeds',\n",
       " 'train.zip',\n",
       " 'tmp',\n",
       " 'sample_submission.csv.zip',\n",
       " 'test.zip',\n",
       " 'list_of_seeds.dat',\n",
       " 'submission.csv',\n",
       " 'models',\n",
       " 'labels.csv',\n",
       " 'submission_res_2.csv',\n",
       " 'create_label.py',\n",
       " 'test']"
      ]
     },
     "execution_count": 7,
     "metadata": {},
     "output_type": "execute_result"
    }
   ],
   "source": [
    "os.listdir(PATH)"
   ]
  },
  {
   "cell_type": "code",
   "execution_count": 9,
   "metadata": {},
   "outputs": [
    {
     "data": {
      "text/html": [
       "<div>\n",
       "<style scoped>\n",
       "    .dataframe tbody tr th:only-of-type {\n",
       "        vertical-align: middle;\n",
       "    }\n",
       "\n",
       "    .dataframe tbody tr th {\n",
       "        vertical-align: top;\n",
       "    }\n",
       "\n",
       "    .dataframe thead th {\n",
       "        text-align: right;\n",
       "    }\n",
       "</style>\n",
       "<table border=\"1\" class=\"dataframe\">\n",
       "  <thead>\n",
       "    <tr style=\"text-align: right;\">\n",
       "      <th></th>\n",
       "      <th>file</th>\n",
       "      <th>species</th>\n",
       "    </tr>\n",
       "  </thead>\n",
       "  <tbody>\n",
       "    <tr>\n",
       "      <th>0</th>\n",
       "      <td>085df38fb.png</td>\n",
       "      <td>Common-Chickweed</td>\n",
       "    </tr>\n",
       "    <tr>\n",
       "      <th>1</th>\n",
       "      <td>a3e3b178c.png</td>\n",
       "      <td>Common-Chickweed</td>\n",
       "    </tr>\n",
       "    <tr>\n",
       "      <th>2</th>\n",
       "      <td>ef9e034f0.png</td>\n",
       "      <td>Common-Chickweed</td>\n",
       "    </tr>\n",
       "    <tr>\n",
       "      <th>3</th>\n",
       "      <td>037295da4.png</td>\n",
       "      <td>Common-Chickweed</td>\n",
       "    </tr>\n",
       "    <tr>\n",
       "      <th>4</th>\n",
       "      <td>b962fdcfc.png</td>\n",
       "      <td>Common-Chickweed</td>\n",
       "    </tr>\n",
       "  </tbody>\n",
       "</table>\n",
       "</div>"
      ],
      "text/plain": [
       "            file           species\n",
       "0  085df38fb.png  Common-Chickweed\n",
       "1  a3e3b178c.png  Common-Chickweed\n",
       "2  ef9e034f0.png  Common-Chickweed\n",
       "3  037295da4.png  Common-Chickweed\n",
       "4  b962fdcfc.png  Common-Chickweed"
      ]
     },
     "execution_count": 9,
     "metadata": {},
     "output_type": "execute_result"
    }
   ],
   "source": [
    "#Read reads into df\n",
    "labels_csv = f'{PATH}labels.csv'\n",
    "import pandas as pd\n",
    "labels_df = pd.read_csv(labels_csv)\n",
    "labels_df.head()"
   ]
  },
  {
   "cell_type": "code",
   "execution_count": 10,
   "metadata": {},
   "outputs": [
    {
     "data": {
      "text/plain": [
       "Loose-Silky-bent             654\n",
       "Common-Chickweed             611\n",
       "Scentless-Mayweed            516\n",
       "Small-flowered-Cranesbill    496\n",
       "Fat-Hen                      475\n",
       "Charlock                     390\n",
       "Sugar-beet                   385\n",
       "Cleavers                     287\n",
       "Black-grass                  263\n",
       "Shepherds-Purse              231\n",
       "Maize                        221\n",
       "Common-wheat                 221\n",
       "Name: species, dtype: int64"
      ]
     },
     "execution_count": 10,
     "metadata": {},
     "output_type": "execute_result"
    }
   ],
   "source": [
    "\n",
    "labels_df['species']=labels_df.species.str.replace(\" \",\"-\")\n",
    "labels_df.species.value_counts()\n"
   ]
  },
  {
   "cell_type": "code",
   "execution_count": 11,
   "metadata": {},
   "outputs": [],
   "source": [
    "n = len(labels_df)\n",
    "val_idx = get_cv_idxs(n)\n",
    "val_idx = val_idx[:2000]"
   ]
  },
  {
   "cell_type": "code",
   "execution_count": null,
   "metadata": {},
   "outputs": [],
   "source": []
  },
  {
   "cell_type": "code",
   "execution_count": 12,
   "metadata": {},
   "outputs": [],
   "source": [
    "#define architecture for first attempt\n",
    "# sz=224 #image size\n",
    "# arch=resnet34 #model\n",
    "# bs=24 #batch size\n",
    "\n",
    "\n",
    "#define architecture for second attempt\n",
    "sz=224 #image size\n",
    "arch=resnext50 #model\n",
    "bs=64 #batch size"
   ]
  },
  {
   "cell_type": "code",
   "execution_count": 13,
   "metadata": {},
   "outputs": [],
   "source": [
    "def get_augs():\n",
    "    data = ImageClassifierData.from_csv(PATH, folder='train', csv_fname=f'{PATH}labels.csv',\n",
    "                                        val_idxs=val_idx, bs=bs, tfms=tfms, num_workers=1)\n",
    "    x,_ = next(iter(data.aug_dl))\n",
    "    return data.trn_ds.denorm(x)[1]"
   ]
  },
  {
   "cell_type": "code",
   "execution_count": 14,
   "metadata": {},
   "outputs": [
    {
     "ename": "NameError",
     "evalue": "name 'tfms' is not defined",
     "output_type": "error",
     "traceback": [
      "\u001b[0;31m---------------------------------------------------------------------------\u001b[0m",
      "\u001b[0;31mNameError\u001b[0m                                 Traceback (most recent call last)",
      "\u001b[0;32m<ipython-input-14-964b430e1d4b>\u001b[0m in \u001b[0;36m<module>\u001b[0;34m()\u001b[0m\n\u001b[0;32m----> 1\u001b[0;31m \u001b[0mims\u001b[0m \u001b[0;34m=\u001b[0m \u001b[0mnp\u001b[0m\u001b[0;34m.\u001b[0m\u001b[0mstack\u001b[0m\u001b[0;34m(\u001b[0m\u001b[0;34m[\u001b[0m\u001b[0mget_augs\u001b[0m\u001b[0;34m(\u001b[0m\u001b[0;34m)\u001b[0m \u001b[0;32mfor\u001b[0m \u001b[0mi\u001b[0m \u001b[0;32min\u001b[0m \u001b[0mrange\u001b[0m\u001b[0;34m(\u001b[0m\u001b[0;36m6\u001b[0m\u001b[0;34m)\u001b[0m\u001b[0;34m]\u001b[0m\u001b[0;34m)\u001b[0m\u001b[0;34m\u001b[0m\u001b[0m\n\u001b[0m\u001b[1;32m      2\u001b[0m \u001b[0mplots\u001b[0m\u001b[0;34m(\u001b[0m\u001b[0mims\u001b[0m\u001b[0;34m,\u001b[0m \u001b[0mrows\u001b[0m\u001b[0;34m=\u001b[0m\u001b[0;36m2\u001b[0m\u001b[0;34m)\u001b[0m\u001b[0;34m\u001b[0m\u001b[0m\n",
      "\u001b[0;32m<ipython-input-14-964b430e1d4b>\u001b[0m in \u001b[0;36m<listcomp>\u001b[0;34m(.0)\u001b[0m\n\u001b[0;32m----> 1\u001b[0;31m \u001b[0mims\u001b[0m \u001b[0;34m=\u001b[0m \u001b[0mnp\u001b[0m\u001b[0;34m.\u001b[0m\u001b[0mstack\u001b[0m\u001b[0;34m(\u001b[0m\u001b[0;34m[\u001b[0m\u001b[0mget_augs\u001b[0m\u001b[0;34m(\u001b[0m\u001b[0;34m)\u001b[0m \u001b[0;32mfor\u001b[0m \u001b[0mi\u001b[0m \u001b[0;32min\u001b[0m \u001b[0mrange\u001b[0m\u001b[0;34m(\u001b[0m\u001b[0;36m6\u001b[0m\u001b[0;34m)\u001b[0m\u001b[0;34m]\u001b[0m\u001b[0;34m)\u001b[0m\u001b[0;34m\u001b[0m\u001b[0m\n\u001b[0m\u001b[1;32m      2\u001b[0m \u001b[0mplots\u001b[0m\u001b[0;34m(\u001b[0m\u001b[0mims\u001b[0m\u001b[0;34m,\u001b[0m \u001b[0mrows\u001b[0m\u001b[0;34m=\u001b[0m\u001b[0;36m2\u001b[0m\u001b[0;34m)\u001b[0m\u001b[0;34m\u001b[0m\u001b[0m\n",
      "\u001b[0;32m<ipython-input-13-0cc5ee306d3b>\u001b[0m in \u001b[0;36mget_augs\u001b[0;34m()\u001b[0m\n\u001b[1;32m      1\u001b[0m \u001b[0;32mdef\u001b[0m \u001b[0mget_augs\u001b[0m\u001b[0;34m(\u001b[0m\u001b[0;34m)\u001b[0m\u001b[0;34m:\u001b[0m\u001b[0;34m\u001b[0m\u001b[0m\n\u001b[1;32m      2\u001b[0m     data = ImageClassifierData.from_csv(PATH, folder='train', csv_fname=f'{PATH}labels.csv',\n\u001b[0;32m----> 3\u001b[0;31m                                         val_idxs=val_idx, bs=bs, tfms=tfms, num_workers=1)\n\u001b[0m\u001b[1;32m      4\u001b[0m     \u001b[0mx\u001b[0m\u001b[0;34m,\u001b[0m\u001b[0m_\u001b[0m \u001b[0;34m=\u001b[0m \u001b[0mnext\u001b[0m\u001b[0;34m(\u001b[0m\u001b[0miter\u001b[0m\u001b[0;34m(\u001b[0m\u001b[0mdata\u001b[0m\u001b[0;34m.\u001b[0m\u001b[0maug_dl\u001b[0m\u001b[0;34m)\u001b[0m\u001b[0;34m)\u001b[0m\u001b[0;34m\u001b[0m\u001b[0m\n\u001b[1;32m      5\u001b[0m     \u001b[0;32mreturn\u001b[0m \u001b[0mdata\u001b[0m\u001b[0;34m.\u001b[0m\u001b[0mtrn_ds\u001b[0m\u001b[0;34m.\u001b[0m\u001b[0mdenorm\u001b[0m\u001b[0;34m(\u001b[0m\u001b[0mx\u001b[0m\u001b[0;34m)\u001b[0m\u001b[0;34m[\u001b[0m\u001b[0;36m1\u001b[0m\u001b[0;34m]\u001b[0m\u001b[0;34m\u001b[0m\u001b[0m\n",
      "\u001b[0;31mNameError\u001b[0m: name 'tfms' is not defined"
     ]
    }
   ],
   "source": [
    "ims = np.stack([get_augs() for i in range(6)])\n",
    "plots(ims, rows=2)\n"
   ]
  },
  {
   "cell_type": "code",
   "execution_count": null,
   "metadata": {},
   "outputs": [],
   "source": [
    "??tfms_from_model"
   ]
  },
  {
   "cell_type": "code",
   "execution_count": 15,
   "metadata": {},
   "outputs": [],
   "source": [
    "#create data\n",
    "#tfms=tfms_from_model(arch,sz,aug_tfms=transforms_side_on,max_zoom=1.1)\n",
    "tfms=tfms_from_model(arch,sz,aug_tfms=transforms_top_down,max_zoom=1.1)\n",
    "data = ImageClassifierData.from_csv(PATH,\"train\",'data/plant-seed/labels.csv',val_idxs=val_idx,test_name='test',tfms=tfms,bs=bs,num_workers=4)"
   ]
  },
  {
   "cell_type": "code",
   "execution_count": 16,
   "metadata": {},
   "outputs": [],
   "source": [
    "#compile learn model\n",
    "#turn precompute to true to quickly train model\n",
    "learn = ConvLearner.pretrained(arch,data,precompute=True,ps=0.5)"
   ]
  },
  {
   "cell_type": "code",
   "execution_count": 17,
   "metadata": {},
   "outputs": [
    {
     "data": {
      "text/plain": [
       "Sequential(\n",
       "  (0): BatchNorm1d(4096, eps=1e-05, momentum=0.1, affine=True)\n",
       "  (1): Dropout(p=0.5)\n",
       "  (2): Linear(in_features=4096, out_features=512, bias=True)\n",
       "  (3): ReLU()\n",
       "  (4): BatchNorm1d(512, eps=1e-05, momentum=0.1, affine=True)\n",
       "  (5): Dropout(p=0.5)\n",
       "  (6): Linear(in_features=512, out_features=12, bias=True)\n",
       "  (7): LogSoftmax()\n",
       ")"
      ]
     },
     "execution_count": 17,
     "metadata": {},
     "output_type": "execute_result"
    }
   ],
   "source": [
    "learn"
   ]
  },
  {
   "cell_type": "code",
   "execution_count": 18,
   "metadata": {},
   "outputs": [
    {
     "data": {
      "application/vnd.jupyter.widget-view+json": {
       "model_id": "586d1211d86e469298b28710a2688f7b",
       "version_major": 2,
       "version_minor": 0
      },
      "text/html": [
       "<p>Failed to display Jupyter Widget of type <code>HBox</code>.</p>\n",
       "<p>\n",
       "  If you're reading this message in the Jupyter Notebook or JupyterLab Notebook, it may mean\n",
       "  that the widgets JavaScript is still loading. If this message persists, it\n",
       "  likely means that the widgets JavaScript library is either not installed or\n",
       "  not enabled. See the <a href=\"https://ipywidgets.readthedocs.io/en/stable/user_install.html\">Jupyter\n",
       "  Widgets Documentation</a> for setup instructions.\n",
       "</p>\n",
       "<p>\n",
       "  If you're reading this message in another frontend (for example, a static\n",
       "  rendering on GitHub or <a href=\"https://nbviewer.jupyter.org/\">NBViewer</a>),\n",
       "  it may mean that your frontend doesn't currently support widgets.\n",
       "</p>\n"
      ],
      "text/plain": [
       "HBox(children=(IntProgress(value=0, description='Epoch', max=1), HTML(value='')))"
      ]
     },
     "metadata": {},
     "output_type": "display_data"
    },
    {
     "name": "stdout",
     "output_type": "stream",
     "text": [
      " 72%|███████▏  | 43/60 [00:02<00:00, 20.19it/s, loss=11]  \n",
      "                                                        \r"
     ]
    }
   ],
   "source": [
    "lrf=learn.lr_find()"
   ]
  },
  {
   "cell_type": "code",
   "execution_count": 19,
   "metadata": {},
   "outputs": [
    {
     "data": {
      "image/png": "[encoded data removed]",
      "text/plain": [
       "<matplotlib.figure.Figure at 0x7f3baf95ea90>"
      ]
     },
     "metadata": {},
     "output_type": "display_data"
    }
   ],
   "source": [
    "learn.sched.plot_lr()"
   ]
  },
  {
   "cell_type": "code",
   "execution_count": 20,
   "metadata": {},
   "outputs": [
    {
     "data": {
      "image/png": "[encoded data removed]",
      "text/plain": [
       "<matplotlib.figure.Figure at 0x7f3baf9b4e10>"
      ]
     },
     "metadata": {},
     "output_type": "display_data"
    }
   ],
   "source": [
    "learn.sched.plot()"
   ]
  },
  {
   "cell_type": "code",
   "execution_count": null,
   "metadata": {},
   "outputs": [],
   "source": []
  },
  {
   "cell_type": "code",
   "execution_count": 21,
   "metadata": {},
   "outputs": [
    {
     "data": {
      "application/vnd.jupyter.widget-view+json": {
       "model_id": "85defb3ef2d04bffbe94a6ee30226ca1",
       "version_major": 2,
       "version_minor": 0
      },
      "text/html": [
       "<p>Failed to display Jupyter Widget of type <code>HBox</code>.</p>\n",
       "<p>\n",
       "  If you're reading this message in the Jupyter Notebook or JupyterLab Notebook, it may mean\n",
       "  that the widgets JavaScript is still loading. If this message persists, it\n",
       "  likely means that the widgets JavaScript library is either not installed or\n",
       "  not enabled. See the <a href=\"https://ipywidgets.readthedocs.io/en/stable/user_install.html\">Jupyter\n",
       "  Widgets Documentation</a> for setup instructions.\n",
       "</p>\n",
       "<p>\n",
       "  If you're reading this message in another frontend (for example, a static\n",
       "  rendering on GitHub or <a href=\"https://nbviewer.jupyter.org/\">NBViewer</a>),\n",
       "  it may mean that your frontend doesn't currently support widgets.\n",
       "</p>\n"
      ],
      "text/plain": [
       "HBox(children=(IntProgress(value=0, description='Epoch', max=5), HTML(value='')))"
      ]
     },
     "metadata": {},
     "output_type": "display_data"
    },
    {
     "name": "stdout",
     "output_type": "stream",
     "text": [
      "epoch      trn_loss   val_loss   accuracy                 \n",
      "    0      1.28761    0.657056   0.795216  \n",
      "    1      0.853264   0.48671    0.836227                  \n",
      "    2      0.66449    0.452186   0.853086                  \n",
      "    3      0.585658   0.410355   0.870795                  \n",
      "    4      0.508619   0.371516   0.875347                  \n",
      "\n"
     ]
    }
   ],
   "source": [
    "#fit model\n",
    "learn.fit(1e-2, 5)\n",
    "#turn precompute off to use data augmentations\n",
    "learn.precompute=False"
   ]
  },
  {
   "cell_type": "code",
   "execution_count": 22,
   "metadata": {},
   "outputs": [
    {
     "data": {
      "application/vnd.jupyter.widget-view+json": {
       "model_id": "37c748b9c7254e8fb3ee0700f01e5cc6",
       "version_major": 2,
       "version_minor": 0
      },
      "text/html": [
       "<p>Failed to display Jupyter Widget of type <code>HBox</code>.</p>\n",
       "<p>\n",
       "  If you're reading this message in the Jupyter Notebook or JupyterLab Notebook, it may mean\n",
       "  that the widgets JavaScript is still loading. If this message persists, it\n",
       "  likely means that the widgets JavaScript library is either not installed or\n",
       "  not enabled. See the <a href=\"https://ipywidgets.readthedocs.io/en/stable/user_install.html\">Jupyter\n",
       "  Widgets Documentation</a> for setup instructions.\n",
       "</p>\n",
       "<p>\n",
       "  If you're reading this message in another frontend (for example, a static\n",
       "  rendering on GitHub or <a href=\"https://nbviewer.jupyter.org/\">NBViewer</a>),\n",
       "  it may mean that your frontend doesn't currently support widgets.\n",
       "</p>\n"
      ],
      "text/plain": [
       "HBox(children=(IntProgress(value=0, description='Epoch', max=7), HTML(value='')))"
      ]
     },
     "metadata": {},
     "output_type": "display_data"
    },
    {
     "name": "stdout",
     "output_type": "stream",
     "text": [
      "epoch      trn_loss   val_loss   accuracy                  \n",
      "    0      0.627059   0.357944   0.889082  \n",
      "    1      0.631679   0.366677   0.878279                  \n",
      "    2      0.591721   0.340655   0.891821                  \n",
      "    3      0.578047   0.344899   0.891358                  \n",
      "    4      0.576206   0.341395   0.886998                  \n",
      "    5      0.526122   0.326364   0.896181                  \n",
      "    6      0.515445   0.32769    0.897222                  \n",
      "\n"
     ]
    },
    {
     "data": {
      "text/plain": [
       "[0.32768953, 0.8972222208976746]"
      ]
     },
     "execution_count": 22,
     "metadata": {},
     "output_type": "execute_result"
    }
   ],
   "source": [
    "#learn with precompute false\n",
    "learn.fit(1e-2, 3, cycle_len=1, cycle_mult=2)"
   ]
  },
  {
   "cell_type": "code",
   "execution_count": null,
   "metadata": {},
   "outputs": [],
   "source": [
    "lrf=learn.lr_find()"
   ]
  },
  {
   "cell_type": "code",
   "execution_count": null,
   "metadata": {},
   "outputs": [],
   "source": [
    "learn.sched.plot_lr()"
   ]
  },
  {
   "cell_type": "code",
   "execution_count": null,
   "metadata": {},
   "outputs": [],
   "source": [
    "learn.sched.plot()"
   ]
  },
  {
   "cell_type": "code",
   "execution_count": null,
   "metadata": {},
   "outputs": [],
   "source": []
  },
  {
   "cell_type": "code",
   "execution_count": null,
   "metadata": {},
   "outputs": [],
   "source": []
  },
  {
   "cell_type": "code",
   "execution_count": 23,
   "metadata": {},
   "outputs": [],
   "source": [
    "learn.unfreeze()"
   ]
  },
  {
   "cell_type": "code",
   "execution_count": 24,
   "metadata": {},
   "outputs": [],
   "source": [
    "l1r=1e-2"
   ]
  },
  {
   "cell_type": "code",
   "execution_count": 25,
   "metadata": {},
   "outputs": [],
   "source": [
    "lr=np.array([l1r/9,l1r/3,l1r])"
   ]
  },
  {
   "cell_type": "code",
   "execution_count": 26,
   "metadata": {},
   "outputs": [
    {
     "data": {
      "application/vnd.jupyter.widget-view+json": {
       "model_id": "cde91bc7dd3349e6bab6ccf047b8f41d",
       "version_major": 2,
       "version_minor": 0
      },
      "text/html": [
       "<p>Failed to display Jupyter Widget of type <code>HBox</code>.</p>\n",
       "<p>\n",
       "  If you're reading this message in the Jupyter Notebook or JupyterLab Notebook, it may mean\n",
       "  that the widgets JavaScript is still loading. If this message persists, it\n",
       "  likely means that the widgets JavaScript library is either not installed or\n",
       "  not enabled. See the <a href=\"https://ipywidgets.readthedocs.io/en/stable/user_install.html\">Jupyter\n",
       "  Widgets Documentation</a> for setup instructions.\n",
       "</p>\n",
       "<p>\n",
       "  If you're reading this message in another frontend (for example, a static\n",
       "  rendering on GitHub or <a href=\"https://nbviewer.jupyter.org/\">NBViewer</a>),\n",
       "  it may mean that your frontend doesn't currently support widgets.\n",
       "</p>\n"
      ],
      "text/plain": [
       "HBox(children=(IntProgress(value=0, description='Epoch', max=7), HTML(value='')))"
      ]
     },
     "metadata": {},
     "output_type": "display_data"
    },
    {
     "name": "stdout",
     "output_type": "stream",
     "text": [
      "epoch      trn_loss   val_loss   accuracy                  \n",
      "    0      0.461377   0.197982   0.934645  \n",
      "    1      0.294292   0.140392   0.944406                  \n",
      "    2      0.208268   0.126689   0.946682                  \n",
      "    3      0.18513    0.123226   0.951698                  \n",
      "    4      0.151039   0.10498    0.964198                  \n",
      "    5      0.111069   0.083323   0.974614                  \n",
      "    6      0.087498   0.080155   0.973765                   \n",
      "\n"
     ]
    },
    {
     "data": {
      "text/plain": [
       "[0.08015508, 0.9737654328346252]"
      ]
     },
     "execution_count": 26,
     "metadata": {},
     "output_type": "execute_result"
    }
   ],
   "source": [
    "learn.fit(lr, 3, cycle_len=1, cycle_mult=2)"
   ]
  },
  {
   "cell_type": "code",
   "execution_count": null,
   "metadata": {},
   "outputs": [],
   "source": []
  },
  {
   "cell_type": "code",
   "execution_count": null,
   "metadata": {},
   "outputs": [],
   "source": []
  },
  {
   "cell_type": "code",
   "execution_count": null,
   "metadata": {},
   "outputs": [],
   "source": [
    "data.classes"
   ]
  },
  {
   "cell_type": "code",
   "execution_count": 27,
   "metadata": {},
   "outputs": [],
   "source": [
    "learn.save('my_resnet50_plant_specie2s')\n",
    "learn.load('my_resnet50_plant_specie2s')"
   ]
  },
  {
   "cell_type": "code",
   "execution_count": 28,
   "metadata": {},
   "outputs": [
    {
     "name": "stdout",
     "output_type": "stream",
     "text": [
      "                                             \r"
     ]
    }
   ],
   "source": [
    "#return test preds\n",
    "test_preds,y = learn.TTA(is_test=True)"
   ]
  },
  {
   "cell_type": "code",
   "execution_count": 29,
   "metadata": {},
   "outputs": [
    {
     "data": {
      "text/plain": [
       "(5, 794, 12)"
      ]
     },
     "execution_count": 29,
     "metadata": {},
     "output_type": "execute_result"
    }
   ],
   "source": [
    "test_preds.shape"
   ]
  },
  {
   "cell_type": "code",
   "execution_count": 36,
   "metadata": {},
   "outputs": [
    {
     "data": {
      "text/plain": [
       "array([[-20.39044,  -9.92041, -11.82491,  -9.87546, -18.82068, -15.3406 , -18.32604, -15.34556, -11.14186,\n",
       "         -0.00035,  -9.90185, -17.4388 ],\n",
       "       [-20.80228, -16.34082, -18.53052, -16.97485, -21.9897 , -20.94354, -16.8854 , -19.31449, -18.14067,\n",
       "        -15.45263,   0.     , -25.13406],\n",
       "       [-15.49767, -15.46663, -14.89355,  -9.87008, -18.43945, -17.34583, -12.90391, -14.46539, -14.25676,\n",
       "        -11.99866,  -0.00014, -19.92937],\n",
       "       [-11.37201, -11.56624,  -9.03126,  -7.89216,  -7.29354,  -8.12556, -11.60282,  -7.78781,  -7.66031,\n",
       "         -9.66981, -13.79531,  -0.00294],\n",
       "       [ -5.62215, -17.15509, -15.531  , -15.08007, -14.03905, -15.80853,  -0.00503, -17.83076, -10.24499,\n",
       "        -15.81536, -14.43162, -18.30353]], dtype=float32)"
      ]
     },
     "execution_count": 36,
     "metadata": {},
     "output_type": "execute_result"
    }
   ],
   "source": [
    "#get the mean value of the preds TTA does emsombling\n",
    "preds_avg = np.mean(test_preds, axis=0)\n",
    "preds_avg[:5]"
   ]
  },
  {
   "cell_type": "code",
   "execution_count": 37,
   "metadata": {},
   "outputs": [],
   "source": [
    "#select column with highest pred\n",
    "preds = np.argmax(preds_avg, axis=1)\n",
    "#create array of probabilies, values are log of probabilities\n",
    "probs = np.exp(preds_avg)"
   ]
  },
  {
   "cell_type": "code",
   "execution_count": null,
   "metadata": {},
   "outputs": [],
   "source": [
    "preds[:5]"
   ]
  },
  {
   "cell_type": "code",
   "execution_count": null,
   "metadata": {},
   "outputs": [],
   "source": [
    "probs[:5]"
   ]
  },
  {
   "cell_type": "code",
   "execution_count": 34,
   "metadata": {},
   "outputs": [
    {
     "data": {
      "text/plain": [
       "array([ 9, 10, 10, 11,  6,  7,  0,  5, 10,  3,  9,  9,  6,  2,  1,  2,  3,  3,  7,  6,  2,  6,  2,  0,  8,\n",
       "        5,  0, 11,  8, 10,  9, 11,  3,  8,  1,  9,  1,  2,  3, 11,  1,  1,  5,  9, 10,  6,  8,  6,  5,  9,\n",
       "        9,  5,  3,  9,  4,  1,  4,  2,  8, 11,  3,  7,  8,  2,  9,  3,  8, 11,  2,  1,  9,  8,  3,  0, 10,\n",
       "        3,  6,  3,  9, 10,  6,  1,  0,  6,  7,  6,  7,  9,  6,  4, 11,  5,  4,  5, 11,  2,  4,  0,  2,  8,\n",
       "        5,  5,  8,  0,  5, 11, 10, 11, 11,  8,  1, 10,  1,  9,  2, 11, 10,  9,  3,  8,  2,  5, 11,  1,  2,\n",
       "        4,  6, 10,  5, 10,  6,  5,  5,  5,  5,  6, 11,  6,  3, 11,  3,  6,  3, 11,  6,  7,  1,  3,  3,  5,\n",
       "        0,  1,  6,  2,  7,  8,  3,  5,  8, 11,  6,  3,  1,  0,  3,  0,  3,  1,  3,  3, 10, 10,  4, 10,  1,\n",
       "        3, 11, 11,  5,  8, 10,  6,  1,  6,  6,  0,  6,  3,  3,  1,  7,  8, 11,  3,  1,  5,  3,  6,  6,  0,\n",
       "        7, 11,  8,  8,  9,  3,  8,  9,  5, 10,  7,  6,  0,  8,  8,  5,  6, 10, 10,  9,  7,  5,  2,  6,  8,\n",
       "        1,  8,  5,  7, 11,  1,  3,  3,  8,  2,  8,  1,  8,  6,  0,  2,  9, 10,  8,  6,  8,  1,  6,  3,  0,\n",
       "        8, 11,  3,  0,  3,  6, 11,  1, 11,  7,  7, 11,  6,  3,  3,  3,  1,  6,  5,  0, 11,  1,  8,  4, 10,\n",
       "        3, 11,  6,  7,  2,  5,  1,  3,  4,  7,  9,  9,  7,  1,  1,  0,  6,  8, 10,  8,  6,  6, 10, 11, 10,\n",
       "        3,  9, 11,  9,  6,  3, 11,  5, 10,  9,  4,  7, 10, 11,  6,  8,  9,  4, 11,  7, 11,  4,  6, 10, 11,\n",
       "       10,  2,  3,  1,  7,  1,  5,  6, 11,  5,  5,  0,  1,  4,  8,  9,  6,  3,  8,  8, 10, 11,  3,  2,  3,\n",
       "        7,  5,  4,  3,  3,  6,  8,  6,  5,  4,  0,  8,  7,  3,  6,  6,  2, 11,  7, 10, 11,  6,  0, 10, 10,\n",
       "        8,  7,  6,  3,  2,  0,  8,  4,  4,  8,  3,  8, 10, 10,  3,  7, 10,  6,  3,  8,  3, 11, 10, 10,  0,\n",
       "       11,  8,  8, 10,  6,  3,  6,  6,  3,  7, 10, 10, 11,  2,  6,  4,  6,  6,  6,  8,  3,  5, 11,  6,  3,\n",
       "       10,  6,  6, 10,  9,  9,  3,  6,  0,  0,  9, 10,  8,  5,  5,  1,  1,  8,  8, 10,  6,  6,  9, 11,  3,\n",
       "       10, 11,  6, 10,  5,  8,  9,  1,  5,  6,  1,  3, 11,  6,  2,  3,  2, 10,  0, 10, 10,  3, 10,  1, 10,\n",
       "        4,  0,  1,  1,  8,  5, 10,  6,  2,  5,  0, 10,  2, 11,  3,  8,  2,  1,  8,  3, 11,  2,  5,  4,  6,\n",
       "        5,  9,  6,  3,  8,  5,  3,  6,  6, 10,  1,  1,  8,  9,  2,  2, 11,  9, 11,  1, 10,  8, 11,  4,  1,\n",
       "        3, 10,  8,  5,  8,  8, 10,  6, 11,  5, 11,  3,  6,  8,  0, 10,  1,  3,  5, 11,  6,  1,  5,  3,  3,\n",
       "       10, 10,  5,  4,  5,  4,  1, 11,  6, 11,  8,  8,  6,  9,  8, 11,  3,  3,  8, 11,  3,  6,  5, 10,  5,\n",
       "        2, 10,  3,  8,  9,  7,  8, 11, 10,  8,  7, 10,  1, 10,  1,  3,  9,  3,  6,  1,  2,  2,  3,  0,  6,\n",
       "       10,  3,  6,  3,  7,  9,  6,  6,  1,  8,  1,  7,  6,  0,  3, 11,  8,  5,  8,  2, 11,  4,  9,  0,  4,\n",
       "        5,  4, 10,  8,  6,  2,  8,  8,  8,  1, 11,  1,  6,  0,  7,  3,  6,  4,  1,  0,  8,  5,  3,  5, 10,\n",
       "        3,  6,  6,  6,  5, 11,  6,  6,  8,  6,  6, 11,  8,  3,  3,  3,  0, 11,  8,  6,  3,  6,  2, 11, 10,\n",
       "        5,  5, 11,  6,  6, 10,  4,  5,  8,  6,  7,  4, 10,  2,  1,  9,  7,  6,  6,  9,  3, 10, 11,  8,  8,\n",
       "       11,  4, 11,  3,  2,  2,  8,  2,  8,  3,  6, 11,  3, 10,  1,  7, 11,  8,  8,  2,  8, 11,  3,  4,  7,\n",
       "        9,  6,  3,  6,  1,  0,  9,  5,  6,  9,  2,  0, 10,  1, 10, 11,  0,  1,  6,  8,  6,  3,  8,  6,  3,\n",
       "        1, 10,  3,  6, 10,  8,  5, 10,  1,  7,  6,  3,  0,  5,  6,  4,  6,  5,  2,  3,  6,  8,  0,  5, 11,\n",
       "        9,  3,  4,  4,  0,  3,  2,  9,  5,  6,  0,  2,  6, 10,  6,  6,  8, 11, 10])"
      ]
     },
     "execution_count": 34,
     "metadata": {},
     "output_type": "execute_result"
    }
   ],
   "source": [
    "#data.test_ds.fnames\n",
    "probs.shape\n",
    "probs[:]\n",
    "preds_avg[:]"
   ]
  },
  {
   "cell_type": "code",
   "execution_count": null,
   "metadata": {},
   "outputs": [],
   "source": [
    "log_preds_test = learn.predict(is_test=True)\n",
    "log_preds_test[:]\n",
    "log_preds_test.shape"
   ]
  },
  {
   "cell_type": "code",
   "execution_count": null,
   "metadata": {},
   "outputs": [],
   "source": [
    "preds_avg.shape"
   ]
  },
  {
   "cell_type": "code",
   "execution_count": 38,
   "metadata": {},
   "outputs": [],
   "source": [
    "preds_avg = np.argmax(preds_avg, axis=1)\n",
    "preds_classes = [data.classes[i].replace(\"-\", \" \") for i in preds_avg]\n",
    "# probs = np.exp(preds_avg)"
   ]
  },
  {
   "cell_type": "code",
   "execution_count": 39,
   "metadata": {},
   "outputs": [],
   "source": [
    "submission = pd.DataFrame({'file': os.listdir(f'{PATH}test'), 'species': preds_classes})\n",
    "submission.to_csv('data/plant-seed/submission_res.csv', index=False)"
   ]
  },
  {
   "cell_type": "code",
   "execution_count": null,
   "metadata": {},
   "outputs": [],
   "source": [
    "log_preds_test = np.argmax(log_preds_test, axis=1)\n",
    "preds_classes = [data.classes[i].replace(\"-\", \" \") for i in log_preds_test]\n",
    "# probs = np.exp(preds_avg)"
   ]
  },
  {
   "cell_type": "code",
   "execution_count": null,
   "metadata": {},
   "outputs": [],
   "source": [
    "submission = pd.DataFrame({'file': os.listdir(f'{PATH}test'), 'species': preds_classes})\n",
    "submission.to_csv('data/plant-seed/submission_res_2.csv', index=False)"
   ]
  },
  {
   "cell_type": "code",
   "execution_count": null,
   "metadata": {},
   "outputs": [],
   "source": [
    "preds = np.argmax(test_preds, axis=1)\n",
    "probs = np.exp(test_preds[:,1])"
   ]
  },
  {
   "cell_type": "code",
   "execution_count": null,
   "metadata": {},
   "outputs": [],
   "source": [
    "from sklearn.metrics import confusion_matrix\n",
    "cm = confusion_matrix(y, preds)"
   ]
  },
  {
   "cell_type": "code",
   "execution_count": null,
   "metadata": {},
   "outputs": [],
   "source": []
  },
  {
   "cell_type": "code",
   "execution_count": null,
   "metadata": {},
   "outputs": [],
   "source": [
    "def updating(df, dict):\n",
    "    dfupdate = pd.DataFrame(df, copy=True)\n",
    "    for key, value in dict.items():\n",
    "        dfupdate.replace(key, value, inplace=True)\n",
    "    return dfupdate"
   ]
  },
  {
   "cell_type": "code",
   "execution_count": null,
   "metadata": {},
   "outputs": [],
   "source": [
    "top1probs = probs\n",
    "dict_class = {idx: value for idx, value in enumerate(data.classes)}\n",
    "top1probs_val = updating(top1probs,dict_class)\n",
    "top1probs_val"
   ]
  },
  {
   "cell_type": "code",
   "execution_count": null,
   "metadata": {},
   "outputs": [],
   "source": [
    "ds=pd.DataFrame(top5probs_val)"
   ]
  },
  {
   "cell_type": "code",
   "execution_count": null,
   "metadata": {},
   "outputs": [],
   "source": [
    "ds.insert(0,'id',[out[5:] for out in data.test_ds.fnames])"
   ]
  },
  {
   "cell_type": "code",
   "execution_count": null,
   "metadata": {},
   "outputs": [],
   "source": [
    "\n",
    "ds_submit=ds[['id',3]]\n",
    "ds_submit.head()"
   ]
  },
  {
   "cell_type": "code",
   "execution_count": null,
   "metadata": {},
   "outputs": [],
   "source": [
    "ds_submit.to_csv('plant_seed.csv',index=False)"
   ]
  },
  {
   "cell_type": "code",
   "execution_count": null,
   "metadata": {},
   "outputs": [],
   "source": []
  },
  {
   "cell_type": "code",
   "execution_count": null,
   "metadata": {},
   "outputs": [],
   "source": []
  },
  {
   "cell_type": "code",
   "execution_count": null,
   "metadata": {},
   "outputs": [],
   "source": [
    "ds=pd.DataFrame(probs)\n",
    "ds.columns = data.classes"
   ]
  },
  {
   "cell_type": "code",
   "execution_count": null,
   "metadata": {},
   "outputs": [],
   "source": [
    "preds"
   ]
  },
  {
   "cell_type": "code",
   "execution_count": null,
   "metadata": {},
   "outputs": [],
   "source": [
    "ds.insert(0,'id',[o[5:] for o in data.test_ds.fnames]) #file name contains 5 letters at start we don't want \"/test\" and also \".jpg\" at end we don't want\n"
   ]
  },
  {
   "cell_type": "code",
   "execution_count": null,
   "metadata": {},
   "outputs": [],
   "source": [
    "ds.head()"
   ]
  },
  {
   "cell_type": "code",
   "execution_count": null,
   "metadata": {},
   "outputs": [],
   "source": []
  },
  {
   "cell_type": "code",
   "execution_count": null,
   "metadata": {},
   "outputs": [],
   "source": []
  },
  {
   "cell_type": "code",
   "execution_count": null,
   "metadata": {},
   "outputs": [],
   "source": []
  },
  {
   "cell_type": "code",
   "execution_count": null,
   "metadata": {},
   "outputs": [],
   "source": []
  },
  {
   "cell_type": "code",
   "execution_count": null,
   "metadata": {},
   "outputs": [],
   "source": []
  },
  {
   "cell_type": "code",
   "execution_count": null,
   "metadata": {},
   "outputs": [],
   "source": []
  },
  {
   "cell_type": "code",
   "execution_count": null,
   "metadata": {},
   "outputs": [],
   "source": []
  },
  {
   "cell_type": "code",
   "execution_count": null,
   "metadata": {},
   "outputs": [],
   "source": []
  },
  {
   "cell_type": "code",
   "execution_count": null,
   "metadata": {},
   "outputs": [],
   "source": []
  },
  {
   "cell_type": "code",
   "execution_count": null,
   "metadata": {},
   "outputs": [],
   "source": []
  },
  {
   "cell_type": "code",
   "execution_count": null,
   "metadata": {},
   "outputs": [],
   "source": []
  },
  {
   "cell_type": "code",
   "execution_count": null,
   "metadata": {},
   "outputs": [],
   "source": []
  },
  {
   "cell_type": "code",
   "execution_count": null,
   "metadata": {},
   "outputs": [],
   "source": []
  }
 ],
 "metadata": {
  "kernelspec": {
   "display_name": "Python 3",
   "language": "python",
   "name": "python3"
  },
  "language_info": {
   "codemirror_mode": {
    "name": "ipython",
    "version": 3
   },
   "file_extension": ".py",
   "mimetype": "text/x-python",
   "name": "python",
   "nbconvert_exporter": "python",
   "pygments_lexer": "ipython3",
   "version": "3.6.4"
  }
 },
 "nbformat": 4,
 "nbformat_minor": 2
}
